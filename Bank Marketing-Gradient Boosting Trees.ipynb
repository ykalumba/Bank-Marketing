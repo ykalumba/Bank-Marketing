{
 "cells": [
  {
   "cell_type": "markdown",
   "id": "48b774a2-f0af-45e7-bd3a-ce7805a3d274",
   "metadata": {},
   "source": [
    "<font size=\"+3\"><strong>3. Gradient Boosting Trees</strong></font>"
   ]
  },
  {
   "cell_type": "code",
   "execution_count": 1,
   "id": "3d6836e8-8cd0-46ca-a97d-f48f2f6a3341",
   "metadata": {},
   "outputs": [],
   "source": [
    "# Import libraries\n",
    "import ipywidgets as widgets\n",
    "import pandas as pd\n",
    "import matplotlib.pyplot as plt\n",
    "from imblearn.over_sampling import RandomOverSampler\n",
    "\n",
    "from ipywidgets import interact\n",
    "from sklearn.ensemble import GradientBoostingClassifier\n",
    "from sklearn.impute import SimpleImputer\n",
    "from sklearn.metrics import (\n",
    "    ConfusionMatrixDisplay,\n",
    "    classification_report,\n",
    "    confusion_matrix,\n",
    ")\n",
    "from sklearn.model_selection import GridSearchCV, train_test_split\n",
    "from sklearn.pipeline import make_pipeline\n",
    "from IPython.display import display\n",
    "from sklearn.metrics import confusion_matrix, ConfusionMatrixDisplay, precision_score, recall_score, accuracy_score"
   ]
  },
  {
   "cell_type": "markdown",
   "id": "c3b06aae-8f6e-4f7b-8d81-eda2560c1d53",
   "metadata": {},
   "source": [
    "# Prepare Data"
   ]
  },
  {
   "cell_type": "markdown",
   "id": "b2b60ee6-8921-4760-bade-d8af274bde1d",
   "metadata": {},
   "source": [
    "## Import"
   ]
  },
  {
   "cell_type": "code",
   "execution_count": 2,
   "id": "6c302825-0ac2-4621-9d2a-6f08694ecb54",
   "metadata": {},
   "outputs": [],
   "source": [
    "filepath = \"Bank Marketing/Bankdata.csv\"\n",
    "\n",
    "def wrangle(filepath):\n",
    "    \"\"\"\n",
    "    Wrangles the  data by:\n",
    "    1. Reading the CSV file.\n",
    "    2. Dropping the 'Unnamed: 0' column.\n",
    "    3. Encoding the target variable 'y' to 0 and 1.\n",
    "    4. Selecting only numeric data features.\n",
    "\n",
    "    Parameters:\n",
    "    filepath (str): Path to the CSV file.\n",
    "\n",
    "    Returns:\n",
    "    pd.DataFrame: Cleaned and wrangled DataFrame.\n",
    "    \"\"\"\n",
    "    # Read the CSV file\n",
    "    df = pd.read_csv(filepath)\n",
    "\n",
    "    # Drop unnecessary column 'Unnamed: 0'\n",
    "    if 'Unnamed: 0' in df.columns:\n",
    "        df = df.drop('Unnamed: 0', axis=1)\n",
    "\n",
    "    # Encode target variable 'y' to 0 and 1\n",
    "    if 'y' in df.columns:\n",
    "        df['y'] = df['y'].map({'yes': 1, 'no': 0})\n",
    "\n",
    "    # Select only numeric data features\n",
    "    df = df.select_dtypes(include='number')\n",
    "\n",
    "    # Print DataFrame type and shape\n",
    "    print(\"df type:\", type(df))\n",
    "    print(\"df shape:\", df.shape)\n",
    "\n",
    "    return df"
   ]
  },
  {
   "cell_type": "code",
   "execution_count": 3,
   "id": "8f4ecd73-e471-4bd3-9733-7e1e7950ae4f",
   "metadata": {},
   "outputs": [
    {
     "name": "stdout",
     "output_type": "stream",
     "text": [
      "df type: <class 'pandas.core.frame.DataFrame'>\n",
      "df shape: (86399, 6)\n"
     ]
    },
    {
     "data": {
      "text/html": [
       "<div>\n",
       "<style scoped>\n",
       "    .dataframe tbody tr th:only-of-type {\n",
       "        vertical-align: middle;\n",
       "    }\n",
       "\n",
       "    .dataframe tbody tr th {\n",
       "        vertical-align: top;\n",
       "    }\n",
       "\n",
       "    .dataframe thead th {\n",
       "        text-align: right;\n",
       "    }\n",
       "</style>\n",
       "<table border=\"1\" class=\"dataframe\">\n",
       "  <thead>\n",
       "    <tr style=\"text-align: right;\">\n",
       "      <th></th>\n",
       "      <th>age</th>\n",
       "      <th>duration</th>\n",
       "      <th>campaign</th>\n",
       "      <th>pdays</th>\n",
       "      <th>previous</th>\n",
       "      <th>y</th>\n",
       "    </tr>\n",
       "  </thead>\n",
       "  <tbody>\n",
       "    <tr>\n",
       "      <th>0</th>\n",
       "      <td>58</td>\n",
       "      <td>261</td>\n",
       "      <td>1</td>\n",
       "      <td>-1</td>\n",
       "      <td>0</td>\n",
       "      <td>0</td>\n",
       "    </tr>\n",
       "    <tr>\n",
       "      <th>1</th>\n",
       "      <td>44</td>\n",
       "      <td>151</td>\n",
       "      <td>1</td>\n",
       "      <td>-1</td>\n",
       "      <td>0</td>\n",
       "      <td>0</td>\n",
       "    </tr>\n",
       "    <tr>\n",
       "      <th>2</th>\n",
       "      <td>33</td>\n",
       "      <td>76</td>\n",
       "      <td>1</td>\n",
       "      <td>-1</td>\n",
       "      <td>0</td>\n",
       "      <td>0</td>\n",
       "    </tr>\n",
       "    <tr>\n",
       "      <th>3</th>\n",
       "      <td>47</td>\n",
       "      <td>92</td>\n",
       "      <td>1</td>\n",
       "      <td>-1</td>\n",
       "      <td>0</td>\n",
       "      <td>0</td>\n",
       "    </tr>\n",
       "    <tr>\n",
       "      <th>4</th>\n",
       "      <td>33</td>\n",
       "      <td>198</td>\n",
       "      <td>1</td>\n",
       "      <td>-1</td>\n",
       "      <td>0</td>\n",
       "      <td>0</td>\n",
       "    </tr>\n",
       "  </tbody>\n",
       "</table>\n",
       "</div>"
      ],
      "text/plain": [
       "   age  duration  campaign  pdays  previous  y\n",
       "0   58       261         1     -1         0  0\n",
       "1   44       151         1     -1         0  0\n",
       "2   33        76         1     -1         0  0\n",
       "3   47        92         1     -1         0  0\n",
       "4   33       198         1     -1         0  0"
      ]
     },
     "execution_count": 3,
     "metadata": {},
     "output_type": "execute_result"
    }
   ],
   "source": [
    "df = wrangle(\"Bankdata.csv\")\n",
    "df.head()"
   ]
  },
  {
   "cell_type": "markdown",
   "id": "22acaf35-ecbd-4896-bb82-bbd998a501cc",
   "metadata": {},
   "source": [
    "## Split"
   ]
  },
  {
   "cell_type": "markdown",
   "id": "44990967-b104-42d6-8a63-f2ca5206bbed",
   "metadata": {},
   "source": [
    "Create your feature matrix `X` and target vector `Y`. The target is `\"y\"`."
   ]
  },
  {
   "cell_type": "code",
   "execution_count": 4,
   "id": "b40eec39-3ab8-46c0-9f73-8deac69a1696",
   "metadata": {},
   "outputs": [
    {
     "name": "stdout",
     "output_type": "stream",
     "text": [
      "X shape: (86399, 5)\n",
      "Y shape: (86399,)\n"
     ]
    }
   ],
   "source": [
    "target = \"y\"\n",
    "X = df.drop(columns=target)\n",
    "Y = df[target]\n",
    "\n",
    "print(\"X shape:\", X.shape)\n",
    "print(\"Y shape:\", Y.shape)"
   ]
  },
  {
   "cell_type": "markdown",
   "id": "18529a59-a6f3-4258-8e1d-dcb2a9835235",
   "metadata": {},
   "source": [
    "Divide your data (`X` and `y`) into training and test sets using a randomized train-test split. Your test set should be 20% of your total data. Set a `random_state` for reproducibility. "
   ]
  },
  {
   "cell_type": "code",
   "execution_count": 5,
   "id": "f78d8a7f-566c-498b-9f93-0f16cd05ad5d",
   "metadata": {},
   "outputs": [
    {
     "name": "stdout",
     "output_type": "stream",
     "text": [
      "X_train shape: (69119, 5)\n",
      "Y_train shape: (69119,)\n",
      "X_test shape: (17280, 5)\n",
      "Y_test shape: (17280,)\n"
     ]
    }
   ],
   "source": [
    "X_train, X_test, Y_train, Y_test = train_test_split(X, Y, \n",
    "                                                    test_size=0.2, \n",
    "                                                    random_state = 42)\n",
    "\n",
    "print(\"X_train shape:\", X_train.shape)\n",
    "print(\"Y_train shape:\", Y_train.shape)\n",
    "print(\"X_test shape:\", X_test.shape)\n",
    "print(\"Y_test shape:\", Y_test.shape)"
   ]
  },
  {
   "cell_type": "markdown",
   "id": "033ca678-99b8-4104-ae0c-0e4366656e08",
   "metadata": {},
   "source": [
    "## Resample"
   ]
  },
  {
   "cell_type": "markdown",
   "id": "3c53d7ad-8f63-4812-9f68-4485d4177259",
   "metadata": {},
   "source": [
    "Create a new feature matrix `X_train_over` and target vector `Y_train_over` by performing random over-sampling on the training data."
   ]
  },
  {
   "cell_type": "code",
   "execution_count": 6,
   "id": "571b0a74-c868-49b8-812f-d25982626cfc",
   "metadata": {},
   "outputs": [
    {
     "name": "stdout",
     "output_type": "stream",
     "text": [
      "X_train_over shape: (122340, 5)\n"
     ]
    },
    {
     "data": {
      "text/html": [
       "<div>\n",
       "<style scoped>\n",
       "    .dataframe tbody tr th:only-of-type {\n",
       "        vertical-align: middle;\n",
       "    }\n",
       "\n",
       "    .dataframe tbody tr th {\n",
       "        vertical-align: top;\n",
       "    }\n",
       "\n",
       "    .dataframe thead th {\n",
       "        text-align: right;\n",
       "    }\n",
       "</style>\n",
       "<table border=\"1\" class=\"dataframe\">\n",
       "  <thead>\n",
       "    <tr style=\"text-align: right;\">\n",
       "      <th></th>\n",
       "      <th>age</th>\n",
       "      <th>duration</th>\n",
       "      <th>campaign</th>\n",
       "      <th>pdays</th>\n",
       "      <th>previous</th>\n",
       "    </tr>\n",
       "  </thead>\n",
       "  <tbody>\n",
       "    <tr>\n",
       "      <th>0</th>\n",
       "      <td>53</td>\n",
       "      <td>160</td>\n",
       "      <td>1</td>\n",
       "      <td>-1</td>\n",
       "      <td>0</td>\n",
       "    </tr>\n",
       "    <tr>\n",
       "      <th>1</th>\n",
       "      <td>24</td>\n",
       "      <td>297</td>\n",
       "      <td>1</td>\n",
       "      <td>323</td>\n",
       "      <td>2</td>\n",
       "    </tr>\n",
       "  </tbody>\n",
       "</table>\n",
       "</div>"
      ],
      "text/plain": [
       "   age  duration  campaign  pdays  previous\n",
       "0   53       160         1     -1         0\n",
       "1   24       297         1    323         2"
      ]
     },
     "execution_count": 6,
     "metadata": {},
     "output_type": "execute_result"
    }
   ],
   "source": [
    "over_sampler = RandomOverSampler(random_state=42)\n",
    "X_train_over, Y_train_over = over_sampler.fit_resample(X_train, Y_train)\n",
    "print(\"X_train_over shape:\", X_train_over.shape)\n",
    "X_train_over.head(2)"
   ]
  },
  {
   "cell_type": "markdown",
   "id": "f2d4789a-f1ca-4447-8158-f1cf2c572964",
   "metadata": {},
   "source": [
    "# Build Model"
   ]
  },
  {
   "cell_type": "markdown",
   "id": "23f43f11-6a21-42df-9ae4-f5d2641d66f8",
   "metadata": {},
   "source": [
    "Calculate the baseline accuracy score for the model."
   ]
  },
  {
   "cell_type": "code",
   "execution_count": 7,
   "id": "a776e1ed-0f81-44b1-99b9-73c353885ea0",
   "metadata": {},
   "outputs": [
    {
     "name": "stdout",
     "output_type": "stream",
     "text": [
      "Baseline Accuracy: 0.885\n"
     ]
    }
   ],
   "source": [
    "acc_baseline = Y_train.value_counts(normalize =True).max()\n",
    "print(\"Baseline Accuracy:\", round(acc_baseline, 4))"
   ]
  },
  {
   "cell_type": "markdown",
   "id": "f1288590-b43e-47e8-ac47-83d0a9297f85",
   "metadata": {},
   "source": [
    "## Iterate"
   ]
  },
  {
   "cell_type": "markdown",
   "id": "f311729e-46b2-4593-814a-6e83116343d6",
   "metadata": {},
   "source": [
    " Create a pipeline named `clf` (short for \"classifier\") that contains a `SimpleImputer` transformer and a `GradientBoostingClassifier` predictor."
   ]
  },
  {
   "cell_type": "code",
   "execution_count": 8,
   "id": "38141d78-65c9-4238-9f00-a66cb00e2d2a",
   "metadata": {},
   "outputs": [],
   "source": [
    "clf = make_pipeline(SimpleImputer(), GradientBoostingClassifier()) "
   ]
  },
  {
   "cell_type": "markdown",
   "id": "05c35e28-7846-4646-9bb3-f5c54e22f324",
   "metadata": {},
   "source": [
    "Considering the *positive* class. Here, the positive class is the one where the clients opted for `bank term deposit accounts`. The positive class is made up of the clients with the `y: yes` key-value pair."
   ]
  },
  {
   "cell_type": "markdown",
   "id": "cf8d5350-0ebc-4995-a4b3-ac51524f5de7",
   "metadata": {},
   "source": [
    "### hyperparameters for the model"
   ]
  },
  {
   "cell_type": "markdown",
   "id": "6526dd65-6a28-41d1-be60-c2f1856723da",
   "metadata": {},
   "source": [
    "Create a dictionary with the range of hyperparameters that we want to evaluate for the classifier."
   ]
  },
  {
   "cell_type": "code",
   "execution_count": 9,
   "id": "50a6d771-5105-447f-971d-c4198fa101ff",
   "metadata": {},
   "outputs": [
    {
     "data": {
      "text/plain": [
       "{'simpleimputer__strategy': ['mean', 'median'],\n",
       " 'gradientboostingclassifier__n_estimators': range(20, 31, 5),\n",
       " 'gradientboostingclassifier__max_depth': range(2, 5)}"
      ]
     },
     "execution_count": 9,
     "metadata": {},
     "output_type": "execute_result"
    }
   ],
   "source": [
    "params = {\"simpleimputer__strategy\": [\"mean\",\"median\"],\n",
    "          \"gradientboostingclassifier__n_estimators\": range (20, 31, 5),\n",
    "         \"gradientboostingclassifier__max_depth\": range(2, 5)}\n",
    "         \n",
    "params"
   ]
  },
  {
   "cell_type": "markdown",
   "id": "c81fa5ec-0d7a-4639-8a3d-93d84ef2b706",
   "metadata": {},
   "source": [
    "Smaller numbers of `n_estimators` are considered because `GradientBoostingClassifier` is slower to train than the `RandomForestClassifier`."
   ]
  },
  {
   "cell_type": "markdown",
   "id": "8927c3ae-054e-417a-ac06-e4cbc060b6f8",
   "metadata": {},
   "source": [
    "Create a `GridSearchCV` named `model` that includes your classifier and hyperparameter grid. Be sure to use the same arguments for `cv` and `n_jobs` that you used above, and set `verbose` to 1."
   ]
  },
  {
   "cell_type": "code",
   "execution_count": 10,
   "id": "044bb5d8-8603-447a-a5f6-2ff24960f83d",
   "metadata": {},
   "outputs": [],
   "source": [
    "model = GridSearchCV(clf,  param_grid=params, cv=5, n_jobs=-1, verbose=1)"
   ]
  },
  {
   "cell_type": "markdown",
   "id": "a042091c-6131-4bc5-b33f-66c1bb698f96",
   "metadata": {},
   "source": [
    "#### Fitting the model \n",
    "\n",
    "Fit your `model` to the over-sampled training data."
   ]
  },
  {
   "cell_type": "code",
   "execution_count": 11,
   "id": "218d2078-6bbe-4755-80d5-1d9414af924a",
   "metadata": {},
   "outputs": [
    {
     "name": "stdout",
     "output_type": "stream",
     "text": [
      "Fitting 5 folds for each of 18 candidates, totalling 90 fits\n"
     ]
    },
    {
     "data": {
      "text/html": [
       "<style>#sk-container-id-1 {\n",
       "  /* Definition of color scheme common for light and dark mode */\n",
       "  --sklearn-color-text: black;\n",
       "  --sklearn-color-line: gray;\n",
       "  /* Definition of color scheme for unfitted estimators */\n",
       "  --sklearn-color-unfitted-level-0: #fff5e6;\n",
       "  --sklearn-color-unfitted-level-1: #f6e4d2;\n",
       "  --sklearn-color-unfitted-level-2: #ffe0b3;\n",
       "  --sklearn-color-unfitted-level-3: chocolate;\n",
       "  /* Definition of color scheme for fitted estimators */\n",
       "  --sklearn-color-fitted-level-0: #f0f8ff;\n",
       "  --sklearn-color-fitted-level-1: #d4ebff;\n",
       "  --sklearn-color-fitted-level-2: #b3dbfd;\n",
       "  --sklearn-color-fitted-level-3: cornflowerblue;\n",
       "\n",
       "  /* Specific color for light theme */\n",
       "  --sklearn-color-text-on-default-background: var(--sg-text-color, var(--theme-code-foreground, var(--jp-content-font-color1, black)));\n",
       "  --sklearn-color-background: var(--sg-background-color, var(--theme-background, var(--jp-layout-color0, white)));\n",
       "  --sklearn-color-border-box: var(--sg-text-color, var(--theme-code-foreground, var(--jp-content-font-color1, black)));\n",
       "  --sklearn-color-icon: #696969;\n",
       "\n",
       "  @media (prefers-color-scheme: dark) {\n",
       "    /* Redefinition of color scheme for dark theme */\n",
       "    --sklearn-color-text-on-default-background: var(--sg-text-color, var(--theme-code-foreground, var(--jp-content-font-color1, white)));\n",
       "    --sklearn-color-background: var(--sg-background-color, var(--theme-background, var(--jp-layout-color0, #111)));\n",
       "    --sklearn-color-border-box: var(--sg-text-color, var(--theme-code-foreground, var(--jp-content-font-color1, white)));\n",
       "    --sklearn-color-icon: #878787;\n",
       "  }\n",
       "}\n",
       "\n",
       "#sk-container-id-1 {\n",
       "  color: var(--sklearn-color-text);\n",
       "}\n",
       "\n",
       "#sk-container-id-1 pre {\n",
       "  padding: 0;\n",
       "}\n",
       "\n",
       "#sk-container-id-1 input.sk-hidden--visually {\n",
       "  border: 0;\n",
       "  clip: rect(1px 1px 1px 1px);\n",
       "  clip: rect(1px, 1px, 1px, 1px);\n",
       "  height: 1px;\n",
       "  margin: -1px;\n",
       "  overflow: hidden;\n",
       "  padding: 0;\n",
       "  position: absolute;\n",
       "  width: 1px;\n",
       "}\n",
       "\n",
       "#sk-container-id-1 div.sk-dashed-wrapped {\n",
       "  border: 1px dashed var(--sklearn-color-line);\n",
       "  margin: 0 0.4em 0.5em 0.4em;\n",
       "  box-sizing: border-box;\n",
       "  padding-bottom: 0.4em;\n",
       "  background-color: var(--sklearn-color-background);\n",
       "}\n",
       "\n",
       "#sk-container-id-1 div.sk-container {\n",
       "  /* jupyter's `normalize.less` sets `[hidden] { display: none; }`\n",
       "     but bootstrap.min.css set `[hidden] { display: none !important; }`\n",
       "     so we also need the `!important` here to be able to override the\n",
       "     default hidden behavior on the sphinx rendered scikit-learn.org.\n",
       "     See: https://github.com/scikit-learn/scikit-learn/issues/21755 */\n",
       "  display: inline-block !important;\n",
       "  position: relative;\n",
       "}\n",
       "\n",
       "#sk-container-id-1 div.sk-text-repr-fallback {\n",
       "  display: none;\n",
       "}\n",
       "\n",
       "div.sk-parallel-item,\n",
       "div.sk-serial,\n",
       "div.sk-item {\n",
       "  /* draw centered vertical line to link estimators */\n",
       "  background-image: linear-gradient(var(--sklearn-color-text-on-default-background), var(--sklearn-color-text-on-default-background));\n",
       "  background-size: 2px 100%;\n",
       "  background-repeat: no-repeat;\n",
       "  background-position: center center;\n",
       "}\n",
       "\n",
       "/* Parallel-specific style estimator block */\n",
       "\n",
       "#sk-container-id-1 div.sk-parallel-item::after {\n",
       "  content: \"\";\n",
       "  width: 100%;\n",
       "  border-bottom: 2px solid var(--sklearn-color-text-on-default-background);\n",
       "  flex-grow: 1;\n",
       "}\n",
       "\n",
       "#sk-container-id-1 div.sk-parallel {\n",
       "  display: flex;\n",
       "  align-items: stretch;\n",
       "  justify-content: center;\n",
       "  background-color: var(--sklearn-color-background);\n",
       "  position: relative;\n",
       "}\n",
       "\n",
       "#sk-container-id-1 div.sk-parallel-item {\n",
       "  display: flex;\n",
       "  flex-direction: column;\n",
       "}\n",
       "\n",
       "#sk-container-id-1 div.sk-parallel-item:first-child::after {\n",
       "  align-self: flex-end;\n",
       "  width: 50%;\n",
       "}\n",
       "\n",
       "#sk-container-id-1 div.sk-parallel-item:last-child::after {\n",
       "  align-self: flex-start;\n",
       "  width: 50%;\n",
       "}\n",
       "\n",
       "#sk-container-id-1 div.sk-parallel-item:only-child::after {\n",
       "  width: 0;\n",
       "}\n",
       "\n",
       "/* Serial-specific style estimator block */\n",
       "\n",
       "#sk-container-id-1 div.sk-serial {\n",
       "  display: flex;\n",
       "  flex-direction: column;\n",
       "  align-items: center;\n",
       "  background-color: var(--sklearn-color-background);\n",
       "  padding-right: 1em;\n",
       "  padding-left: 1em;\n",
       "}\n",
       "\n",
       "\n",
       "/* Toggleable style: style used for estimator/Pipeline/ColumnTransformer box that is\n",
       "clickable and can be expanded/collapsed.\n",
       "- Pipeline and ColumnTransformer use this feature and define the default style\n",
       "- Estimators will overwrite some part of the style using the `sk-estimator` class\n",
       "*/\n",
       "\n",
       "/* Pipeline and ColumnTransformer style (default) */\n",
       "\n",
       "#sk-container-id-1 div.sk-toggleable {\n",
       "  /* Default theme specific background. It is overwritten whether we have a\n",
       "  specific estimator or a Pipeline/ColumnTransformer */\n",
       "  background-color: var(--sklearn-color-background);\n",
       "}\n",
       "\n",
       "/* Toggleable label */\n",
       "#sk-container-id-1 label.sk-toggleable__label {\n",
       "  cursor: pointer;\n",
       "  display: block;\n",
       "  width: 100%;\n",
       "  margin-bottom: 0;\n",
       "  padding: 0.5em;\n",
       "  box-sizing: border-box;\n",
       "  text-align: center;\n",
       "}\n",
       "\n",
       "#sk-container-id-1 label.sk-toggleable__label-arrow:before {\n",
       "  /* Arrow on the left of the label */\n",
       "  content: \"▸\";\n",
       "  float: left;\n",
       "  margin-right: 0.25em;\n",
       "  color: var(--sklearn-color-icon);\n",
       "}\n",
       "\n",
       "#sk-container-id-1 label.sk-toggleable__label-arrow:hover:before {\n",
       "  color: var(--sklearn-color-text);\n",
       "}\n",
       "\n",
       "/* Toggleable content - dropdown */\n",
       "\n",
       "#sk-container-id-1 div.sk-toggleable__content {\n",
       "  max-height: 0;\n",
       "  max-width: 0;\n",
       "  overflow: hidden;\n",
       "  text-align: left;\n",
       "  /* unfitted */\n",
       "  background-color: var(--sklearn-color-unfitted-level-0);\n",
       "}\n",
       "\n",
       "#sk-container-id-1 div.sk-toggleable__content.fitted {\n",
       "  /* fitted */\n",
       "  background-color: var(--sklearn-color-fitted-level-0);\n",
       "}\n",
       "\n",
       "#sk-container-id-1 div.sk-toggleable__content pre {\n",
       "  margin: 0.2em;\n",
       "  border-radius: 0.25em;\n",
       "  color: var(--sklearn-color-text);\n",
       "  /* unfitted */\n",
       "  background-color: var(--sklearn-color-unfitted-level-0);\n",
       "}\n",
       "\n",
       "#sk-container-id-1 div.sk-toggleable__content.fitted pre {\n",
       "  /* unfitted */\n",
       "  background-color: var(--sklearn-color-fitted-level-0);\n",
       "}\n",
       "\n",
       "#sk-container-id-1 input.sk-toggleable__control:checked~div.sk-toggleable__content {\n",
       "  /* Expand drop-down */\n",
       "  max-height: 200px;\n",
       "  max-width: 100%;\n",
       "  overflow: auto;\n",
       "}\n",
       "\n",
       "#sk-container-id-1 input.sk-toggleable__control:checked~label.sk-toggleable__label-arrow:before {\n",
       "  content: \"▾\";\n",
       "}\n",
       "\n",
       "/* Pipeline/ColumnTransformer-specific style */\n",
       "\n",
       "#sk-container-id-1 div.sk-label input.sk-toggleable__control:checked~label.sk-toggleable__label {\n",
       "  color: var(--sklearn-color-text);\n",
       "  background-color: var(--sklearn-color-unfitted-level-2);\n",
       "}\n",
       "\n",
       "#sk-container-id-1 div.sk-label.fitted input.sk-toggleable__control:checked~label.sk-toggleable__label {\n",
       "  background-color: var(--sklearn-color-fitted-level-2);\n",
       "}\n",
       "\n",
       "/* Estimator-specific style */\n",
       "\n",
       "/* Colorize estimator box */\n",
       "#sk-container-id-1 div.sk-estimator input.sk-toggleable__control:checked~label.sk-toggleable__label {\n",
       "  /* unfitted */\n",
       "  background-color: var(--sklearn-color-unfitted-level-2);\n",
       "}\n",
       "\n",
       "#sk-container-id-1 div.sk-estimator.fitted input.sk-toggleable__control:checked~label.sk-toggleable__label {\n",
       "  /* fitted */\n",
       "  background-color: var(--sklearn-color-fitted-level-2);\n",
       "}\n",
       "\n",
       "#sk-container-id-1 div.sk-label label.sk-toggleable__label,\n",
       "#sk-container-id-1 div.sk-label label {\n",
       "  /* The background is the default theme color */\n",
       "  color: var(--sklearn-color-text-on-default-background);\n",
       "}\n",
       "\n",
       "/* On hover, darken the color of the background */\n",
       "#sk-container-id-1 div.sk-label:hover label.sk-toggleable__label {\n",
       "  color: var(--sklearn-color-text);\n",
       "  background-color: var(--sklearn-color-unfitted-level-2);\n",
       "}\n",
       "\n",
       "/* Label box, darken color on hover, fitted */\n",
       "#sk-container-id-1 div.sk-label.fitted:hover label.sk-toggleable__label.fitted {\n",
       "  color: var(--sklearn-color-text);\n",
       "  background-color: var(--sklearn-color-fitted-level-2);\n",
       "}\n",
       "\n",
       "/* Estimator label */\n",
       "\n",
       "#sk-container-id-1 div.sk-label label {\n",
       "  font-family: monospace;\n",
       "  font-weight: bold;\n",
       "  display: inline-block;\n",
       "  line-height: 1.2em;\n",
       "}\n",
       "\n",
       "#sk-container-id-1 div.sk-label-container {\n",
       "  text-align: center;\n",
       "}\n",
       "\n",
       "/* Estimator-specific */\n",
       "#sk-container-id-1 div.sk-estimator {\n",
       "  font-family: monospace;\n",
       "  border: 1px dotted var(--sklearn-color-border-box);\n",
       "  border-radius: 0.25em;\n",
       "  box-sizing: border-box;\n",
       "  margin-bottom: 0.5em;\n",
       "  /* unfitted */\n",
       "  background-color: var(--sklearn-color-unfitted-level-0);\n",
       "}\n",
       "\n",
       "#sk-container-id-1 div.sk-estimator.fitted {\n",
       "  /* fitted */\n",
       "  background-color: var(--sklearn-color-fitted-level-0);\n",
       "}\n",
       "\n",
       "/* on hover */\n",
       "#sk-container-id-1 div.sk-estimator:hover {\n",
       "  /* unfitted */\n",
       "  background-color: var(--sklearn-color-unfitted-level-2);\n",
       "}\n",
       "\n",
       "#sk-container-id-1 div.sk-estimator.fitted:hover {\n",
       "  /* fitted */\n",
       "  background-color: var(--sklearn-color-fitted-level-2);\n",
       "}\n",
       "\n",
       "/* Specification for estimator info (e.g. \"i\" and \"?\") */\n",
       "\n",
       "/* Common style for \"i\" and \"?\" */\n",
       "\n",
       ".sk-estimator-doc-link,\n",
       "a:link.sk-estimator-doc-link,\n",
       "a:visited.sk-estimator-doc-link {\n",
       "  float: right;\n",
       "  font-size: smaller;\n",
       "  line-height: 1em;\n",
       "  font-family: monospace;\n",
       "  background-color: var(--sklearn-color-background);\n",
       "  border-radius: 1em;\n",
       "  height: 1em;\n",
       "  width: 1em;\n",
       "  text-decoration: none !important;\n",
       "  margin-left: 1ex;\n",
       "  /* unfitted */\n",
       "  border: var(--sklearn-color-unfitted-level-1) 1pt solid;\n",
       "  color: var(--sklearn-color-unfitted-level-1);\n",
       "}\n",
       "\n",
       ".sk-estimator-doc-link.fitted,\n",
       "a:link.sk-estimator-doc-link.fitted,\n",
       "a:visited.sk-estimator-doc-link.fitted {\n",
       "  /* fitted */\n",
       "  border: var(--sklearn-color-fitted-level-1) 1pt solid;\n",
       "  color: var(--sklearn-color-fitted-level-1);\n",
       "}\n",
       "\n",
       "/* On hover */\n",
       "div.sk-estimator:hover .sk-estimator-doc-link:hover,\n",
       ".sk-estimator-doc-link:hover,\n",
       "div.sk-label-container:hover .sk-estimator-doc-link:hover,\n",
       ".sk-estimator-doc-link:hover {\n",
       "  /* unfitted */\n",
       "  background-color: var(--sklearn-color-unfitted-level-3);\n",
       "  color: var(--sklearn-color-background);\n",
       "  text-decoration: none;\n",
       "}\n",
       "\n",
       "div.sk-estimator.fitted:hover .sk-estimator-doc-link.fitted:hover,\n",
       ".sk-estimator-doc-link.fitted:hover,\n",
       "div.sk-label-container:hover .sk-estimator-doc-link.fitted:hover,\n",
       ".sk-estimator-doc-link.fitted:hover {\n",
       "  /* fitted */\n",
       "  background-color: var(--sklearn-color-fitted-level-3);\n",
       "  color: var(--sklearn-color-background);\n",
       "  text-decoration: none;\n",
       "}\n",
       "\n",
       "/* Span, style for the box shown on hovering the info icon */\n",
       ".sk-estimator-doc-link span {\n",
       "  display: none;\n",
       "  z-index: 9999;\n",
       "  position: relative;\n",
       "  font-weight: normal;\n",
       "  right: .2ex;\n",
       "  padding: .5ex;\n",
       "  margin: .5ex;\n",
       "  width: min-content;\n",
       "  min-width: 20ex;\n",
       "  max-width: 50ex;\n",
       "  color: var(--sklearn-color-text);\n",
       "  box-shadow: 2pt 2pt 4pt #999;\n",
       "  /* unfitted */\n",
       "  background: var(--sklearn-color-unfitted-level-0);\n",
       "  border: .5pt solid var(--sklearn-color-unfitted-level-3);\n",
       "}\n",
       "\n",
       ".sk-estimator-doc-link.fitted span {\n",
       "  /* fitted */\n",
       "  background: var(--sklearn-color-fitted-level-0);\n",
       "  border: var(--sklearn-color-fitted-level-3);\n",
       "}\n",
       "\n",
       ".sk-estimator-doc-link:hover span {\n",
       "  display: block;\n",
       "}\n",
       "\n",
       "/* \"?\"-specific style due to the `<a>` HTML tag */\n",
       "\n",
       "#sk-container-id-1 a.estimator_doc_link {\n",
       "  float: right;\n",
       "  font-size: 1rem;\n",
       "  line-height: 1em;\n",
       "  font-family: monospace;\n",
       "  background-color: var(--sklearn-color-background);\n",
       "  border-radius: 1rem;\n",
       "  height: 1rem;\n",
       "  width: 1rem;\n",
       "  text-decoration: none;\n",
       "  /* unfitted */\n",
       "  color: var(--sklearn-color-unfitted-level-1);\n",
       "  border: var(--sklearn-color-unfitted-level-1) 1pt solid;\n",
       "}\n",
       "\n",
       "#sk-container-id-1 a.estimator_doc_link.fitted {\n",
       "  /* fitted */\n",
       "  border: var(--sklearn-color-fitted-level-1) 1pt solid;\n",
       "  color: var(--sklearn-color-fitted-level-1);\n",
       "}\n",
       "\n",
       "/* On hover */\n",
       "#sk-container-id-1 a.estimator_doc_link:hover {\n",
       "  /* unfitted */\n",
       "  background-color: var(--sklearn-color-unfitted-level-3);\n",
       "  color: var(--sklearn-color-background);\n",
       "  text-decoration: none;\n",
       "}\n",
       "\n",
       "#sk-container-id-1 a.estimator_doc_link.fitted:hover {\n",
       "  /* fitted */\n",
       "  background-color: var(--sklearn-color-fitted-level-3);\n",
       "}\n",
       "</style><div id=\"sk-container-id-1\" class=\"sk-top-container\"><div class=\"sk-text-repr-fallback\"><pre>GridSearchCV(cv=5,\n",
       "             estimator=Pipeline(steps=[(&#x27;simpleimputer&#x27;, SimpleImputer()),\n",
       "                                       (&#x27;gradientboostingclassifier&#x27;,\n",
       "                                        GradientBoostingClassifier())]),\n",
       "             n_jobs=-1,\n",
       "             param_grid={&#x27;gradientboostingclassifier__max_depth&#x27;: range(2, 5),\n",
       "                         &#x27;gradientboostingclassifier__n_estimators&#x27;: range(20, 31, 5),\n",
       "                         &#x27;simpleimputer__strategy&#x27;: [&#x27;mean&#x27;, &#x27;median&#x27;]},\n",
       "             verbose=1)</pre><b>In a Jupyter environment, please rerun this cell to show the HTML representation or trust the notebook. <br />On GitHub, the HTML representation is unable to render, please try loading this page with nbviewer.org.</b></div><div class=\"sk-container\" hidden><div class=\"sk-item sk-dashed-wrapped\"><div class=\"sk-label-container\"><div class=\"sk-label fitted sk-toggleable\"><input class=\"sk-toggleable__control sk-hidden--visually\" id=\"sk-estimator-id-1\" type=\"checkbox\" ><label for=\"sk-estimator-id-1\" class=\"sk-toggleable__label fitted sk-toggleable__label-arrow fitted\">&nbsp;&nbsp;GridSearchCV<a class=\"sk-estimator-doc-link fitted\" rel=\"noreferrer\" target=\"_blank\" href=\"https://scikit-learn.org/1.5/modules/generated/sklearn.model_selection.GridSearchCV.html\">?<span>Documentation for GridSearchCV</span></a><span class=\"sk-estimator-doc-link fitted\">i<span>Fitted</span></span></label><div class=\"sk-toggleable__content fitted\"><pre>GridSearchCV(cv=5,\n",
       "             estimator=Pipeline(steps=[(&#x27;simpleimputer&#x27;, SimpleImputer()),\n",
       "                                       (&#x27;gradientboostingclassifier&#x27;,\n",
       "                                        GradientBoostingClassifier())]),\n",
       "             n_jobs=-1,\n",
       "             param_grid={&#x27;gradientboostingclassifier__max_depth&#x27;: range(2, 5),\n",
       "                         &#x27;gradientboostingclassifier__n_estimators&#x27;: range(20, 31, 5),\n",
       "                         &#x27;simpleimputer__strategy&#x27;: [&#x27;mean&#x27;, &#x27;median&#x27;]},\n",
       "             verbose=1)</pre></div> </div></div><div class=\"sk-parallel\"><div class=\"sk-parallel-item\"><div class=\"sk-item\"><div class=\"sk-label-container\"><div class=\"sk-label fitted sk-toggleable\"><input class=\"sk-toggleable__control sk-hidden--visually\" id=\"sk-estimator-id-2\" type=\"checkbox\" ><label for=\"sk-estimator-id-2\" class=\"sk-toggleable__label fitted sk-toggleable__label-arrow fitted\">best_estimator_: Pipeline</label><div class=\"sk-toggleable__content fitted\"><pre>Pipeline(steps=[(&#x27;simpleimputer&#x27;, SimpleImputer()),\n",
       "                (&#x27;gradientboostingclassifier&#x27;,\n",
       "                 GradientBoostingClassifier(max_depth=4, n_estimators=30))])</pre></div> </div></div><div class=\"sk-serial\"><div class=\"sk-item\"><div class=\"sk-serial\"><div class=\"sk-item\"><div class=\"sk-estimator fitted sk-toggleable\"><input class=\"sk-toggleable__control sk-hidden--visually\" id=\"sk-estimator-id-3\" type=\"checkbox\" ><label for=\"sk-estimator-id-3\" class=\"sk-toggleable__label fitted sk-toggleable__label-arrow fitted\">&nbsp;SimpleImputer<a class=\"sk-estimator-doc-link fitted\" rel=\"noreferrer\" target=\"_blank\" href=\"https://scikit-learn.org/1.5/modules/generated/sklearn.impute.SimpleImputer.html\">?<span>Documentation for SimpleImputer</span></a></label><div class=\"sk-toggleable__content fitted\"><pre>SimpleImputer()</pre></div> </div></div><div class=\"sk-item\"><div class=\"sk-estimator fitted sk-toggleable\"><input class=\"sk-toggleable__control sk-hidden--visually\" id=\"sk-estimator-id-4\" type=\"checkbox\" ><label for=\"sk-estimator-id-4\" class=\"sk-toggleable__label fitted sk-toggleable__label-arrow fitted\">&nbsp;GradientBoostingClassifier<a class=\"sk-estimator-doc-link fitted\" rel=\"noreferrer\" target=\"_blank\" href=\"https://scikit-learn.org/1.5/modules/generated/sklearn.ensemble.GradientBoostingClassifier.html\">?<span>Documentation for GradientBoostingClassifier</span></a></label><div class=\"sk-toggleable__content fitted\"><pre>GradientBoostingClassifier(max_depth=4, n_estimators=30)</pre></div> </div></div></div></div></div></div></div></div></div></div></div>"
      ],
      "text/plain": [
       "GridSearchCV(cv=5,\n",
       "             estimator=Pipeline(steps=[('simpleimputer', SimpleImputer()),\n",
       "                                       ('gradientboostingclassifier',\n",
       "                                        GradientBoostingClassifier())]),\n",
       "             n_jobs=-1,\n",
       "             param_grid={'gradientboostingclassifier__max_depth': range(2, 5),\n",
       "                         'gradientboostingclassifier__n_estimators': range(20, 31, 5),\n",
       "                         'simpleimputer__strategy': ['mean', 'median']},\n",
       "             verbose=1)"
      ]
     },
     "execution_count": 11,
     "metadata": {},
     "output_type": "execute_result"
    }
   ],
   "source": [
    "params = {\"simpleimputer__strategy\": [\"mean\",\"median\"],\n",
    "          \"gradientboostingclassifier__n_estimators\": range (20, 31, 5),\n",
    "         \"gradientboostingclassifier__max_depth\": range(2, 5)}\n",
    "\n",
    "model = GridSearchCV(clf,  param_grid=params, cv=5, n_jobs=-1, verbose=1)\n",
    "\n",
    "\n",
    "# Fit model to over-sampled training data\n",
    "model.fit(X_train_over, Y_train_over)"
   ]
  },
  {
   "cell_type": "markdown",
   "id": "c1890a2d-312b-4a43-b75f-fdfad7c8c029",
   "metadata": {},
   "source": [
    "Extract the cross-validation results from `model` and load them into a DataFrame named `cv_results`."
   ]
  },
  {
   "cell_type": "code",
   "execution_count": 12,
   "id": "31128637-6134-458a-a42d-e676c4096f12",
   "metadata": {},
   "outputs": [
    {
     "data": {
      "text/html": [
       "<div>\n",
       "<style scoped>\n",
       "    .dataframe tbody tr th:only-of-type {\n",
       "        vertical-align: middle;\n",
       "    }\n",
       "\n",
       "    .dataframe tbody tr th {\n",
       "        vertical-align: top;\n",
       "    }\n",
       "\n",
       "    .dataframe thead th {\n",
       "        text-align: right;\n",
       "    }\n",
       "</style>\n",
       "<table border=\"1\" class=\"dataframe\">\n",
       "  <thead>\n",
       "    <tr style=\"text-align: right;\">\n",
       "      <th></th>\n",
       "      <th>mean_fit_time</th>\n",
       "      <th>std_fit_time</th>\n",
       "      <th>mean_score_time</th>\n",
       "      <th>std_score_time</th>\n",
       "      <th>param_gradientboostingclassifier__max_depth</th>\n",
       "      <th>param_gradientboostingclassifier__n_estimators</th>\n",
       "      <th>param_simpleimputer__strategy</th>\n",
       "      <th>params</th>\n",
       "      <th>split0_test_score</th>\n",
       "      <th>split1_test_score</th>\n",
       "      <th>split2_test_score</th>\n",
       "      <th>split3_test_score</th>\n",
       "      <th>split4_test_score</th>\n",
       "      <th>mean_test_score</th>\n",
       "      <th>std_test_score</th>\n",
       "      <th>rank_test_score</th>\n",
       "    </tr>\n",
       "  </thead>\n",
       "  <tbody>\n",
       "    <tr>\n",
       "      <th>17</th>\n",
       "      <td>9.333157</td>\n",
       "      <td>0.403086</td>\n",
       "      <td>0.073205</td>\n",
       "      <td>0.007243</td>\n",
       "      <td>4</td>\n",
       "      <td>30</td>\n",
       "      <td>median</td>\n",
       "      <td>{'gradientboostingclassifier__max_depth': 4, '...</td>\n",
       "      <td>0.798471</td>\n",
       "      <td>0.799902</td>\n",
       "      <td>0.797286</td>\n",
       "      <td>0.801782</td>\n",
       "      <td>0.799248</td>\n",
       "      <td>0.799338</td>\n",
       "      <td>0.001501</td>\n",
       "      <td>1</td>\n",
       "    </tr>\n",
       "    <tr>\n",
       "      <th>16</th>\n",
       "      <td>9.543994</td>\n",
       "      <td>0.084879</td>\n",
       "      <td>0.079226</td>\n",
       "      <td>0.006995</td>\n",
       "      <td>4</td>\n",
       "      <td>30</td>\n",
       "      <td>mean</td>\n",
       "      <td>{'gradientboostingclassifier__max_depth': 4, '...</td>\n",
       "      <td>0.798471</td>\n",
       "      <td>0.799902</td>\n",
       "      <td>0.797286</td>\n",
       "      <td>0.801782</td>\n",
       "      <td>0.799248</td>\n",
       "      <td>0.799338</td>\n",
       "      <td>0.001501</td>\n",
       "      <td>1</td>\n",
       "    </tr>\n",
       "    <tr>\n",
       "      <th>15</th>\n",
       "      <td>8.082841</td>\n",
       "      <td>0.057090</td>\n",
       "      <td>0.070751</td>\n",
       "      <td>0.003416</td>\n",
       "      <td>4</td>\n",
       "      <td>25</td>\n",
       "      <td>median</td>\n",
       "      <td>{'gradientboostingclassifier__max_depth': 4, '...</td>\n",
       "      <td>0.798717</td>\n",
       "      <td>0.799125</td>\n",
       "      <td>0.796346</td>\n",
       "      <td>0.800678</td>\n",
       "      <td>0.798063</td>\n",
       "      <td>0.798586</td>\n",
       "      <td>0.001413</td>\n",
       "      <td>3</td>\n",
       "    </tr>\n",
       "    <tr>\n",
       "      <th>14</th>\n",
       "      <td>7.962597</td>\n",
       "      <td>0.078964</td>\n",
       "      <td>0.069807</td>\n",
       "      <td>0.002009</td>\n",
       "      <td>4</td>\n",
       "      <td>25</td>\n",
       "      <td>mean</td>\n",
       "      <td>{'gradientboostingclassifier__max_depth': 4, '...</td>\n",
       "      <td>0.798717</td>\n",
       "      <td>0.799125</td>\n",
       "      <td>0.796346</td>\n",
       "      <td>0.800678</td>\n",
       "      <td>0.798063</td>\n",
       "      <td>0.798586</td>\n",
       "      <td>0.001413</td>\n",
       "      <td>3</td>\n",
       "    </tr>\n",
       "    <tr>\n",
       "      <th>13</th>\n",
       "      <td>6.531894</td>\n",
       "      <td>0.028018</td>\n",
       "      <td>0.061987</td>\n",
       "      <td>0.003376</td>\n",
       "      <td>4</td>\n",
       "      <td>20</td>\n",
       "      <td>median</td>\n",
       "      <td>{'gradientboostingclassifier__max_depth': 4, '...</td>\n",
       "      <td>0.796837</td>\n",
       "      <td>0.797082</td>\n",
       "      <td>0.793567</td>\n",
       "      <td>0.797572</td>\n",
       "      <td>0.797818</td>\n",
       "      <td>0.796575</td>\n",
       "      <td>0.001543</td>\n",
       "      <td>5</td>\n",
       "    </tr>\n",
       "  </tbody>\n",
       "</table>\n",
       "</div>"
      ],
      "text/plain": [
       "    mean_fit_time  std_fit_time  mean_score_time  std_score_time  \\\n",
       "17       9.333157      0.403086         0.073205        0.007243   \n",
       "16       9.543994      0.084879         0.079226        0.006995   \n",
       "15       8.082841      0.057090         0.070751        0.003416   \n",
       "14       7.962597      0.078964         0.069807        0.002009   \n",
       "13       6.531894      0.028018         0.061987        0.003376   \n",
       "\n",
       "    param_gradientboostingclassifier__max_depth  \\\n",
       "17                                            4   \n",
       "16                                            4   \n",
       "15                                            4   \n",
       "14                                            4   \n",
       "13                                            4   \n",
       "\n",
       "    param_gradientboostingclassifier__n_estimators  \\\n",
       "17                                              30   \n",
       "16                                              30   \n",
       "15                                              25   \n",
       "14                                              25   \n",
       "13                                              20   \n",
       "\n",
       "   param_simpleimputer__strategy  \\\n",
       "17                        median   \n",
       "16                          mean   \n",
       "15                        median   \n",
       "14                          mean   \n",
       "13                        median   \n",
       "\n",
       "                                               params  split0_test_score  \\\n",
       "17  {'gradientboostingclassifier__max_depth': 4, '...           0.798471   \n",
       "16  {'gradientboostingclassifier__max_depth': 4, '...           0.798471   \n",
       "15  {'gradientboostingclassifier__max_depth': 4, '...           0.798717   \n",
       "14  {'gradientboostingclassifier__max_depth': 4, '...           0.798717   \n",
       "13  {'gradientboostingclassifier__max_depth': 4, '...           0.796837   \n",
       "\n",
       "    split1_test_score  split2_test_score  split3_test_score  \\\n",
       "17           0.799902           0.797286           0.801782   \n",
       "16           0.799902           0.797286           0.801782   \n",
       "15           0.799125           0.796346           0.800678   \n",
       "14           0.799125           0.796346           0.800678   \n",
       "13           0.797082           0.793567           0.797572   \n",
       "\n",
       "    split4_test_score  mean_test_score  std_test_score  rank_test_score  \n",
       "17           0.799248         0.799338        0.001501                1  \n",
       "16           0.799248         0.799338        0.001501                1  \n",
       "15           0.798063         0.798586        0.001413                3  \n",
       "14           0.798063         0.798586        0.001413                3  \n",
       "13           0.797818         0.796575        0.001543                5  "
      ]
     },
     "execution_count": 12,
     "metadata": {},
     "output_type": "execute_result"
    }
   ],
   "source": [
    "results = pd.DataFrame(model.cv_results_)\n",
    "results.sort_values(\"rank_test_score\").head(5)"
   ]
  },
  {
   "cell_type": "markdown",
   "id": "83f6b707-cb62-4821-936e-d52eee92bbaa",
   "metadata": {},
   "source": [
    "Extract the best hyperparameters from `model`."
   ]
  },
  {
   "cell_type": "code",
   "execution_count": 13,
   "id": "bbf73d89-5414-4320-9fcb-011cdec44837",
   "metadata": {},
   "outputs": [
    {
     "data": {
      "text/plain": [
       "{'gradientboostingclassifier__max_depth': 4,\n",
       " 'gradientboostingclassifier__n_estimators': 30,\n",
       " 'simpleimputer__strategy': 'mean'}"
      ]
     },
     "execution_count": 13,
     "metadata": {},
     "output_type": "execute_result"
    }
   ],
   "source": [
    "# Extract best hyperparameters\n",
    "model.best_params_"
   ]
  },
  {
   "cell_type": "markdown",
   "id": "7dfa3557-db1e-45a1-af19-44e9d76dcc4b",
   "metadata": {},
   "source": [
    "## Evaluate"
   ]
  },
  {
   "cell_type": "markdown",
   "id": "133d2fce-ac06-4f4a-b052-98b8381717b0",
   "metadata": {},
   "source": [
    "Calculate the training and test accuracy scores for `model`. "
   ]
  },
  {
   "cell_type": "code",
   "execution_count": 14,
   "id": "01951deb-21d3-4405-a5c3-c2c8a5cce632",
   "metadata": {},
   "outputs": [
    {
     "name": "stdout",
     "output_type": "stream",
     "text": [
      "Training Accuracy: 0.8106\n",
      "Validation Accuracy: 0.8058\n"
     ]
    }
   ],
   "source": [
    "acc_train = model.score(X_train, Y_train)\n",
    "acc_test = model.score(X_test, Y_test)\n",
    "\n",
    "print(\"Training Accuracy:\", round(acc_train, 4))\n",
    "print(\"Validation Accuracy:\", round(acc_test, 4))"
   ]
  },
  {
   "cell_type": "markdown",
   "id": "69f746df-fd7c-4e8b-afc6-5638077470ed",
   "metadata": {},
   "source": [
    "Plot a confusion matrix that shows how your best model performs on your test set."
   ]
  },
  {
   "cell_type": "code",
   "execution_count": 15,
   "id": "d1c0d149-4774-41fc-bdf8-f9eb0ab66cd9",
   "metadata": {},
   "outputs": [
    {
     "data": {
      "image/png": "[encoded data removed]",
      "text/plain": [
       "<Figure size 640x480 with 2 Axes>"
      ]
     },
     "metadata": {},
     "output_type": "display_data"
    }
   ],
   "source": [
    "# Plot confusion matrix\n",
    "ConfusionMatrixDisplay.from_estimator(model, X_test, Y_test);"
   ]
  },
  {
   "cell_type": "markdown",
   "id": "28865084-e12f-49e0-afdb-872331c9abe6",
   "metadata": {},
   "source": [
    "Print the classification report for the model, using the test set."
   ]
  },
  {
   "cell_type": "code",
   "execution_count": 16,
   "id": "cc628e18-e6d3-421e-bbee-b0bacfec3d56",
   "metadata": {},
   "outputs": [
    {
     "name": "stdout",
     "output_type": "stream",
     "text": [
      "              precision    recall  f1-score   support\n",
      "\n",
      "           0       0.97      0.81      0.88     15300\n",
      "           1       0.35      0.79      0.48      1980\n",
      "\n",
      "    accuracy                           0.81     17280\n",
      "   macro avg       0.66      0.80      0.68     17280\n",
      "weighted avg       0.90      0.81      0.83     17280\n",
      "\n"
     ]
    }
   ],
   "source": [
    "# Print classification report\n",
    "print(classification_report(Y_test, model.predict(X_test)))"
   ]
  },
  {
   "cell_type": "markdown",
   "id": "c448ea4d-dddd-4195-b3a1-a3d6190b1ffa",
   "metadata": {},
   "source": [
    "Since we're trying to maximize our profit (bank gains), the *quality* of our predictions is much more important than the *quantity* of our predictions.\n",
    "\n",
    "### Precision Score\n",
    "\n",
    "Precision is the fraction of true positives over all positive predictions. It is a measure of how \"precise\" our model is with regard to labeling observations as positive. \n",
    "\n",
    "In this scenario, we try to predict whether a client will subscribe a term deposit with the bank, with `\"yes\"` as the positive class. Out of all positive predictions made by the model, some clients actually subscribed for a bank term deposit (True Positive `TP`), while others didn't (False Positive `FP`). Precision measures how many times model predicted positives (`TP`+`FP`) correctly (`TP`).  The equation for precision is: \n",
    "$$ \\text{precision} = \\frac{\\text{TP}}{TP + FP}$$\n",
    "\n",
    "Precision: Measures how many of the predicted `yes` were actually **`yes.`**\n",
    "\n",
    "### Recall Score\n",
    "\n",
    "What if we care more about the model performance in the negative class? In this case, we need to calculate **recall**. Recall the fraction of true positives over all positive observations. It is a measure of our model's ability to \"catch\" and properly label observations that are positive. *(measures how well the model identifies observations that belong to the positive class)*\n",
    "\n",
    "Consider [Polish Companies Bankruptcy](https://archive.ics.uci.edu/dataset/365/polish+companies+bankruptcy+data). Of all the companies that actually went bankrupt (`TP`+`FN`), how many companies did the model predict as going bankrupt (`TP`)? That's what recall measures. The equation to calculate recall is:\n",
    "\n",
    "$$ \\text{Recall} = \\frac{\\text{TP}}{\\text{TP} + \\text{FN}}. $$\n",
    "\n",
    "Recall: Measures how well the model captures all the actual `yes` cases."
   ]
  },
  {
   "cell_type": "code",
   "execution_count": 17,
   "id": "d0726212-1010-4f6e-9eb5-d976cbbc8756",
   "metadata": {},
   "outputs": [
    {
     "data": {
      "application/vnd.jupyter.widget-view+json": {
       "model_id": "a53994b540f54544b0d94392ca5e85a7",
       "version_major": 2,
       "version_minor": 0
      },
      "text/plain": [
       "FloatSlider(value=0.5, description='Threshold:', max=1.0, step=0.01, style=SliderStyle(description_width='init…"
      ]
     },
     "metadata": {},
     "output_type": "display_data"
    },
    {
     "data": {
      "application/vnd.jupyter.widget-view+json": {
       "model_id": "34e02d27b300455cb129dbdcf901bf2b",
       "version_major": 2,
       "version_minor": 0
      },
      "text/plain": [
       "Output()"
      ]
     },
     "metadata": {},
     "output_type": "display_data"
    }
   ],
   "source": [
    "# Generate predicted probabilities (requires a probabilistic model like GradientBoosting)\n",
    "y_probs = model.predict_proba(X_test)[:, 1]  # Probability of positive class\n",
    "\n",
    "# Create widgets\n",
    "threshold_slider = widgets.FloatSlider(\n",
    "    value=0.5, # Default threshold\n",
    "    min=0,     # Minimum threshold value\n",
    "    max=1,     # Maximum threshold value\n",
    "    step=0.01, # Step size for the slider\n",
    "    description='Threshold:',\n",
    "    style={'description_width': 'initial'}\n",
    ")\n",
    "\n",
    "# Output area for plot and metrics\n",
    "out = widgets.Output()\n",
    "\n",
    "# Function to update confusion matrix and metrics\n",
    "def update_confusion_matrix(threshold):\n",
    "    # Convert probabilities to binary predictions using threshold\n",
    "    y_pred = (y_probs >= threshold).astype(int)\n",
    "    \n",
    "    # Compute metrics\n",
    "    cm = confusion_matrix(Y_test, y_pred)\n",
    "    precision = precision_score(Y_test, y_pred)\n",
    "    recall = recall_score(Y_test, y_pred)\n",
    "    accuracy = accuracy_score(Y_test, y_pred)\n",
    "    \n",
    "    # Clear previous output and plot\n",
    "    with out:\n",
    "        out.clear_output(wait=True)\n",
    "        fig, ax = plt.subplots(figsize=(6, 6))\n",
    "        ConfusionMatrixDisplay(cm).plot(ax=ax)\n",
    "        plt.title(f\"Confusion Matrix (Threshold = {threshold:.2f})\\n\"\n",
    "                  f\"Precision = {precision:.2f}, Recall = {recall:.2f}, Accuracy = {accuracy:.2f}\")\n",
    "        plt.show()\n",
    "\n",
    "# Link slider to update function\n",
    "interactive_plot = widgets.interactive(update_confusion_matrix, threshold=threshold_slider)\n",
    "\n",
    "# Display widgets and initial plot\n",
    "display(threshold_slider, out)\n",
    "update_confusion_matrix(threshold_slider.value)"
   ]
  },
  {
   "cell_type": "code",
   "execution_count": 18,
   "id": "fce67282-e5e2-44c4-bab0-64d3023e3755",
   "metadata": {},
   "outputs": [
    {
     "data": {
      "text/plain": [
       "array([1, 0, 0, 1, 0, 0, 0, 1, 1, 0], dtype=int64)"
      ]
     },
     "execution_count": 18,
     "metadata": {},
     "output_type": "execute_result"
    }
   ],
   "source": [
    "model.predict(X_test)[:10]"
   ]
  },
  {
   "cell_type": "code",
   "execution_count": 19,
   "id": "f6809a97-565c-408b-a110-7dd7de7637ba",
   "metadata": {},
   "outputs": [
    {
     "data": {
      "text/plain": [
       "array([0.82295363, 0.08281801, 0.3258324 , 0.83921713, 0.37552607,\n",
       "       0.18945915, 0.13861188, 0.83033556, 0.85648394, 0.24494305])"
      ]
     },
     "execution_count": 19,
     "metadata": {},
     "output_type": "execute_result"
    }
   ],
   "source": [
    "model.predict_proba(X_test)[:10, -1]"
   ]
  },
  {
   "cell_type": "markdown",
   "id": "d247428d-fdfa-4b5b-a9d1-84afed4e656e",
   "metadata": {},
   "source": [
    "*Threshold = 0.50*. If the model value > 0.5, it is registered as a **`yes`** and if the model value < 0.5, it implies that the model predicted a **`no`**."
   ]
  },
  {
   "cell_type": "markdown",
   "id": "ae6ef3e3-8034-48fb-a43b-113ba8e3b97f",
   "metadata": {},
   "source": [
    "### Business Implications\n",
    "\n",
    "- **Goal 1: Maximize Customer Acquisition**  \n",
    "  - Prioritize high recall for `yes` **(79% is decent).**\n",
    "  - **Cost:** Many false positives **(65% of `yes` predictions are incorrect)**. Marketing teams might waste effort on uninterested customers.  \n",
    "  - The bank should opt to obtain atleast two phone contacts & an email address of all the customers it receives.\n",
    "\n",
    "- **Goal 2: Minimize Wasted Resources**  \n",
    "  - Prioritize high precision for `yes` **(35% is very poor).** \n",
    "  - **Cost:** Miss 21% of actual `yes` customers (lower acquisition).\n",
    "  - Develop new products that increase customer loyalty through CSR activities.  \n",
    "  - Obtain feedback from clients through customer surveys. \n",
    "\n",
    "- **Threshold Adjustment:**  \n",
    "  - To reduce false positives (improve precision), increase the classification threshold (e.g., only predict `yes` with confidence level greater than 80%). This would lower recall but improve precision.  As threshold goes down, Recall goes up, meaning a lower threshold is more likely to predict a positive class i.e. a client will subscribe a bank term deposit. When threshold = 0, the model obtains perfect recall because it is predicting that all clients in the test set will apply for a term deposit. "
   ]
  },
  {
   "cell_type": "markdown",
   "id": "9e5f19d8-678a-4488-9e44-75eaaf61da08",
   "metadata": {},
   "source": [
    "<center>\n",
    "<table>\n",
    "  <tr>\n",
    "    <th>Date (YYYY-MM-DD)</th>\n",
    "    <th>Author</th>\n",
    "  </tr>\n",
    "  <tr>\n",
    "    <td>2025-02-23</td>\n",
    "    <td>Andrew Kalumba Harris</td>\n",
    "    <td>andrewkalumbaharris@gmail.com</td>\n",
    "  </tr>\n",
    "</table>\n",
    "</center>\n"
   ]
  }
 ],
 "metadata": {
  "kernelspec": {
   "display_name": "Python 3 (ipykernel)",
   "language": "python",
   "name": "python3"
  },
  "language_info": {
   "codemirror_mode": {
    "name": "ipython",
    "version": 3
   },
   "file_extension": ".py",
   "mimetype": "text/x-python",
   "name": "python",
   "nbconvert_exporter": "python",
   "pygments_lexer": "ipython3",
   "version": "3.10.14"
  }
 },
 "nbformat": 4,
 "nbformat_minor": 5
}
