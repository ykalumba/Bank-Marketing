{
 "cells": [
  {
   "cell_type": "markdown",
   "id": "4eea0053-052f-41ab-b80f-215b7a855074",
   "metadata": {},
   "source": [
    "<font size=\"+3\"><strong>2. Imbalanced Data</strong></font>"
   ]
  },
  {
   "cell_type": "markdown",
   "id": "e195a685-f6ce-4b98-bfc1-e082834f0399",
   "metadata": {},
   "source": [
    "# Explore"
   ]
  },
  {
   "cell_type": "code",
   "execution_count": 1,
   "id": "0f6da568-2444-4a6e-a9d8-4f62076e863a",
   "metadata": {},
   "outputs": [],
   "source": [
    "# Import libraries\n",
    "import matplotlib.pyplot as plt\n",
    "import pandas as pd\n",
    "import seaborn as sns\n",
    "\n",
    "from imblearn.over_sampling import RandomOverSampler\n",
    "from imblearn.under_sampling import RandomUnderSampler\n",
    "from sklearn.impute import SimpleImputer\n",
    "from sklearn.metrics import ConfusionMatrixDisplay\n",
    "from sklearn.model_selection import train_test_split\n",
    "from sklearn.pipeline import make_pipeline\n",
    "from sklearn.tree import DecisionTreeClassifier, plot_tree\n",
    "\n",
    "from category_encoders import OrdinalEncoder\n",
    "from sklearn.metrics import accuracy_score"
   ]
  },
  {
   "cell_type": "code",
   "execution_count": 2,
   "id": "2b154f04-d29f-4b91-bbbe-0333cb1c075c",
   "metadata": {},
   "outputs": [
    {
     "name": "stdout",
     "output_type": "stream",
     "text": [
      "df type: <class 'pandas.core.frame.DataFrame'>\n",
      "df shape: (86399, 15)\n"
     ]
    },
    {
     "data": {
      "text/html": [
       "<div>\n",
       "<style scoped>\n",
       "    .dataframe tbody tr th:only-of-type {\n",
       "        vertical-align: middle;\n",
       "    }\n",
       "\n",
       "    .dataframe tbody tr th {\n",
       "        vertical-align: top;\n",
       "    }\n",
       "\n",
       "    .dataframe thead th {\n",
       "        text-align: right;\n",
       "    }\n",
       "</style>\n",
       "<table border=\"1\" class=\"dataframe\">\n",
       "  <thead>\n",
       "    <tr style=\"text-align: right;\">\n",
       "      <th></th>\n",
       "      <th>age</th>\n",
       "      <th>job</th>\n",
       "      <th>marital</th>\n",
       "      <th>education</th>\n",
       "      <th>default</th>\n",
       "      <th>housing</th>\n",
       "      <th>loan</th>\n",
       "      <th>contact</th>\n",
       "      <th>month</th>\n",
       "      <th>duration</th>\n",
       "      <th>campaign</th>\n",
       "      <th>pdays</th>\n",
       "      <th>previous</th>\n",
       "      <th>poutcome</th>\n",
       "      <th>y</th>\n",
       "    </tr>\n",
       "  </thead>\n",
       "  <tbody>\n",
       "    <tr>\n",
       "      <th>0</th>\n",
       "      <td>58</td>\n",
       "      <td>management</td>\n",
       "      <td>married</td>\n",
       "      <td>tertiary</td>\n",
       "      <td>no</td>\n",
       "      <td>yes</td>\n",
       "      <td>no</td>\n",
       "      <td>unknown</td>\n",
       "      <td>may</td>\n",
       "      <td>261</td>\n",
       "      <td>1</td>\n",
       "      <td>-1</td>\n",
       "      <td>0</td>\n",
       "      <td>unknown</td>\n",
       "      <td>no</td>\n",
       "    </tr>\n",
       "    <tr>\n",
       "      <th>1</th>\n",
       "      <td>44</td>\n",
       "      <td>technician</td>\n",
       "      <td>single</td>\n",
       "      <td>secondary</td>\n",
       "      <td>no</td>\n",
       "      <td>yes</td>\n",
       "      <td>no</td>\n",
       "      <td>unknown</td>\n",
       "      <td>may</td>\n",
       "      <td>151</td>\n",
       "      <td>1</td>\n",
       "      <td>-1</td>\n",
       "      <td>0</td>\n",
       "      <td>unknown</td>\n",
       "      <td>no</td>\n",
       "    </tr>\n",
       "    <tr>\n",
       "      <th>2</th>\n",
       "      <td>33</td>\n",
       "      <td>entrepreneur</td>\n",
       "      <td>married</td>\n",
       "      <td>secondary</td>\n",
       "      <td>no</td>\n",
       "      <td>yes</td>\n",
       "      <td>yes</td>\n",
       "      <td>unknown</td>\n",
       "      <td>may</td>\n",
       "      <td>76</td>\n",
       "      <td>1</td>\n",
       "      <td>-1</td>\n",
       "      <td>0</td>\n",
       "      <td>unknown</td>\n",
       "      <td>no</td>\n",
       "    </tr>\n",
       "    <tr>\n",
       "      <th>3</th>\n",
       "      <td>47</td>\n",
       "      <td>blue-collar</td>\n",
       "      <td>married</td>\n",
       "      <td>unknown</td>\n",
       "      <td>no</td>\n",
       "      <td>yes</td>\n",
       "      <td>no</td>\n",
       "      <td>unknown</td>\n",
       "      <td>may</td>\n",
       "      <td>92</td>\n",
       "      <td>1</td>\n",
       "      <td>-1</td>\n",
       "      <td>0</td>\n",
       "      <td>unknown</td>\n",
       "      <td>no</td>\n",
       "    </tr>\n",
       "    <tr>\n",
       "      <th>4</th>\n",
       "      <td>33</td>\n",
       "      <td>unknown</td>\n",
       "      <td>single</td>\n",
       "      <td>unknown</td>\n",
       "      <td>no</td>\n",
       "      <td>no</td>\n",
       "      <td>no</td>\n",
       "      <td>unknown</td>\n",
       "      <td>may</td>\n",
       "      <td>198</td>\n",
       "      <td>1</td>\n",
       "      <td>-1</td>\n",
       "      <td>0</td>\n",
       "      <td>unknown</td>\n",
       "      <td>no</td>\n",
       "    </tr>\n",
       "  </tbody>\n",
       "</table>\n",
       "</div>"
      ],
      "text/plain": [
       "   age           job  marital  education default housing loan  contact month  \\\n",
       "0   58    management  married   tertiary      no     yes   no  unknown   may   \n",
       "1   44    technician   single  secondary      no     yes   no  unknown   may   \n",
       "2   33  entrepreneur  married  secondary      no     yes  yes  unknown   may   \n",
       "3   47   blue-collar  married    unknown      no     yes   no  unknown   may   \n",
       "4   33       unknown   single    unknown      no      no   no  unknown   may   \n",
       "\n",
       "   duration  campaign  pdays  previous poutcome   y  \n",
       "0       261         1     -1         0  unknown  no  \n",
       "1       151         1     -1         0  unknown  no  \n",
       "2        76         1     -1         0  unknown  no  \n",
       "3        92         1     -1         0  unknown  no  \n",
       "4       198         1     -1         0  unknown  no  "
      ]
     },
     "execution_count": 2,
     "metadata": {},
     "output_type": "execute_result"
    }
   ],
   "source": [
    "df = pd.read_csv(\"Bankdata.csv\")\n",
    "\n",
    "df = df.drop(\"Unnamed: 0\", axis=1)\n",
    "print(\"df type:\", type(df))\n",
    "print(\"df shape:\", df.shape)\n",
    "df.head()"
   ]
  },
  {
   "cell_type": "code",
   "execution_count": 3,
   "id": "92af3562-79c7-4d7b-91b7-49c9cc2abbe8",
   "metadata": {},
   "outputs": [],
   "source": [
    "filepath = \"Bank Marketing/Bankdata.csv\"\n",
    "\n",
    "def wrangle(filepath):\n",
    "    \"\"\"\n",
    "    Wrangles the  data by:\n",
    "    1. Reading the CSV file.\n",
    "    2. Dropping the 'Unnamed: 0' column.\n",
    "    3. Encoding the target variable 'y' to 0 and 1.\n",
    "    4. Selecting only numeric data features.\n",
    "\n",
    "    Parameters:\n",
    "    filepath (str): Path to the CSV file.\n",
    "\n",
    "    Returns:\n",
    "    pd.DataFrame: Cleaned and wrangled DataFrame.\n",
    "    \"\"\"\n",
    "    # Read the CSV file\n",
    "    df = pd.read_csv(filepath)\n",
    "\n",
    "    # Drop unnecessary column 'Unnamed: 0'\n",
    "    if 'Unnamed: 0' in df.columns:\n",
    "        df = df.drop('Unnamed: 0', axis=1)\n",
    "\n",
    "    # Encode target variable 'y' to 0 and 1\n",
    "    if 'y' in df.columns:\n",
    "        df['y'] = df['y'].map({'yes': 1, 'no': 0})\n",
    "\n",
    "    # Select only numeric data features\n",
    "    df = df.select_dtypes(include='number')\n",
    "\n",
    "    # Print DataFrame type and shape\n",
    "    print(\"df type:\", type(df))\n",
    "    print(\"df shape:\", df.shape)\n",
    "\n",
    "    return df"
   ]
  },
  {
   "cell_type": "code",
   "execution_count": 4,
   "id": "c22c6391-72d4-47cd-befd-a5e65f61842f",
   "metadata": {},
   "outputs": [
    {
     "data": {
      "text/html": [
       "<div>\n",
       "<style scoped>\n",
       "    .dataframe tbody tr th:only-of-type {\n",
       "        vertical-align: middle;\n",
       "    }\n",
       "\n",
       "    .dataframe tbody tr th {\n",
       "        vertical-align: top;\n",
       "    }\n",
       "\n",
       "    .dataframe thead th {\n",
       "        text-align: right;\n",
       "    }\n",
       "</style>\n",
       "<table border=\"1\" class=\"dataframe\">\n",
       "  <thead>\n",
       "    <tr style=\"text-align: right;\">\n",
       "      <th></th>\n",
       "      <th>age</th>\n",
       "      <th>job</th>\n",
       "      <th>marital</th>\n",
       "      <th>education</th>\n",
       "      <th>default</th>\n",
       "      <th>housing</th>\n",
       "      <th>loan</th>\n",
       "      <th>contact</th>\n",
       "      <th>month</th>\n",
       "      <th>duration</th>\n",
       "      <th>campaign</th>\n",
       "      <th>pdays</th>\n",
       "      <th>previous</th>\n",
       "      <th>poutcome</th>\n",
       "      <th>y</th>\n",
       "    </tr>\n",
       "  </thead>\n",
       "  <tbody>\n",
       "    <tr>\n",
       "      <th>0</th>\n",
       "      <td>58</td>\n",
       "      <td>management</td>\n",
       "      <td>married</td>\n",
       "      <td>tertiary</td>\n",
       "      <td>no</td>\n",
       "      <td>yes</td>\n",
       "      <td>no</td>\n",
       "      <td>unknown</td>\n",
       "      <td>may</td>\n",
       "      <td>261</td>\n",
       "      <td>1</td>\n",
       "      <td>-1</td>\n",
       "      <td>0</td>\n",
       "      <td>unknown</td>\n",
       "      <td>no</td>\n",
       "    </tr>\n",
       "    <tr>\n",
       "      <th>1</th>\n",
       "      <td>44</td>\n",
       "      <td>technician</td>\n",
       "      <td>single</td>\n",
       "      <td>secondary</td>\n",
       "      <td>no</td>\n",
       "      <td>yes</td>\n",
       "      <td>no</td>\n",
       "      <td>unknown</td>\n",
       "      <td>may</td>\n",
       "      <td>151</td>\n",
       "      <td>1</td>\n",
       "      <td>-1</td>\n",
       "      <td>0</td>\n",
       "      <td>unknown</td>\n",
       "      <td>no</td>\n",
       "    </tr>\n",
       "    <tr>\n",
       "      <th>2</th>\n",
       "      <td>33</td>\n",
       "      <td>entrepreneur</td>\n",
       "      <td>married</td>\n",
       "      <td>secondary</td>\n",
       "      <td>no</td>\n",
       "      <td>yes</td>\n",
       "      <td>yes</td>\n",
       "      <td>unknown</td>\n",
       "      <td>may</td>\n",
       "      <td>76</td>\n",
       "      <td>1</td>\n",
       "      <td>-1</td>\n",
       "      <td>0</td>\n",
       "      <td>unknown</td>\n",
       "      <td>no</td>\n",
       "    </tr>\n",
       "    <tr>\n",
       "      <th>3</th>\n",
       "      <td>47</td>\n",
       "      <td>blue-collar</td>\n",
       "      <td>married</td>\n",
       "      <td>unknown</td>\n",
       "      <td>no</td>\n",
       "      <td>yes</td>\n",
       "      <td>no</td>\n",
       "      <td>unknown</td>\n",
       "      <td>may</td>\n",
       "      <td>92</td>\n",
       "      <td>1</td>\n",
       "      <td>-1</td>\n",
       "      <td>0</td>\n",
       "      <td>unknown</td>\n",
       "      <td>no</td>\n",
       "    </tr>\n",
       "    <tr>\n",
       "      <th>4</th>\n",
       "      <td>33</td>\n",
       "      <td>unknown</td>\n",
       "      <td>single</td>\n",
       "      <td>unknown</td>\n",
       "      <td>no</td>\n",
       "      <td>no</td>\n",
       "      <td>no</td>\n",
       "      <td>unknown</td>\n",
       "      <td>may</td>\n",
       "      <td>198</td>\n",
       "      <td>1</td>\n",
       "      <td>-1</td>\n",
       "      <td>0</td>\n",
       "      <td>unknown</td>\n",
       "      <td>no</td>\n",
       "    </tr>\n",
       "  </tbody>\n",
       "</table>\n",
       "</div>"
      ],
      "text/plain": [
       "   age           job  marital  education default housing loan  contact month  \\\n",
       "0   58    management  married   tertiary      no     yes   no  unknown   may   \n",
       "1   44    technician   single  secondary      no     yes   no  unknown   may   \n",
       "2   33  entrepreneur  married  secondary      no     yes  yes  unknown   may   \n",
       "3   47   blue-collar  married    unknown      no     yes   no  unknown   may   \n",
       "4   33       unknown   single    unknown      no      no   no  unknown   may   \n",
       "\n",
       "   duration  campaign  pdays  previous poutcome   y  \n",
       "0       261         1     -1         0  unknown  no  \n",
       "1       151         1     -1         0  unknown  no  \n",
       "2        76         1     -1         0  unknown  no  \n",
       "3        92         1     -1         0  unknown  no  \n",
       "4       198         1     -1         0  unknown  no  "
      ]
     },
     "execution_count": 4,
     "metadata": {},
     "output_type": "execute_result"
    }
   ],
   "source": [
    "df.head()"
   ]
  },
  {
   "cell_type": "markdown",
   "id": "6a79149b-d391-48f6-af6e-9136498257c3",
   "metadata": {},
   "source": [
    "Create a bar chart of the value counts for the `\"y\"` column. Calculate the relative frequencies of the classes. Set the `normalize` argument to `True`."
   ]
  },
  {
   "cell_type": "code",
   "execution_count": 5,
   "id": "ce95dbff-203e-4985-aafd-f6663ad05616",
   "metadata": {},
   "outputs": [
    {
     "data": {
      "image/png": "[encoded data removed]",
      "text/plain": [
       "<Figure size 640x480 with 1 Axes>"
      ]
     },
     "metadata": {},
     "output_type": "display_data"
    }
   ],
   "source": [
    "# Plot class balance\n",
    "df[\"y\"].value_counts(normalize=True).plot(kind=\"bar\", \n",
    "                                                 xlabel=\"Bank term deposit\", \n",
    "                                                 ylabel=\"Frequency\", \n",
    "                                                 title=\"Class Balance\");"
   ]
  },
  {
   "cell_type": "markdown",
   "id": "d2772f48-602e-45b9-a08f-7ec0e91748b7",
   "metadata": {},
   "source": [
    "`yes` is the positive class(minority) and `no` is the negative class(majority) in relation to the target variable `y` that a client will opt for a bank term deposit."
   ]
  },
  {
   "cell_type": "markdown",
   "id": "bb688508-c4bf-4ed5-8a0c-cedd8270c5cc",
   "metadata": {},
   "source": [
    "Create two variables, `majority_class_prop` and `minority_class_prop`, to store the normalized value counts for the two classes in `df[\"y\"]`. "
   ]
  },
  {
   "cell_type": "code",
   "execution_count": 6,
   "id": "20ea851b-e9cc-4de6-8568-12bee94e7dda",
   "metadata": {},
   "outputs": [
    {
     "name": "stdout",
     "output_type": "stream",
     "text": [
      "0.8851 0.1149\n"
     ]
    }
   ],
   "source": [
    "majority_class_prop, minority_class_prop = df[\"y\"].value_counts(normalize=True).round(4)\n",
    "print(majority_class_prop, minority_class_prop)"
   ]
  },
  {
   "cell_type": "markdown",
   "id": "032b4a6e-4776-43ab-95c8-0737c432d958",
   "metadata": {},
   "source": [
    "It is observed that most clients will not open up term deposit accounts with the bank as evidenced by the visualization above. However, it also shows us that we have an imbalanced dataset, where our majority class is far bigger than our minority class."
   ]
  },
  {
   "cell_type": "markdown",
   "id": "8244de6f-ad5f-477a-beb6-a5c5c1d31cd8",
   "metadata": {},
   "source": [
    "Use seaborn to create a boxplot that shows the distributions of the `\"age\"` column for both groups in the `\"y\"` column. Remember to label your axes."
   ]
  },
  {
   "cell_type": "code",
   "execution_count": 7,
   "id": "baecf2a9-695a-4aa8-ac09-38a42338f7d3",
   "metadata": {},
   "outputs": [
    {
     "data": {
      "image/png": "[encoded data removed]",
      "text/plain": [
       "<Figure size 640x480 with 1 Axes>"
      ]
     },
     "metadata": {},
     "output_type": "display_data"
    }
   ],
   "source": [
    "# Create boxplot\n",
    "\n",
    "sns.boxplot(x=\"y\",y=\"age\", data = df)\n",
    "plt.xlabel(\"Bank term deposit\")\n",
    "plt.ylabel(\"Age of client(s)\")\n",
    "plt.title(\"Distribution of Age by Class\");"
   ]
  },
  {
   "cell_type": "markdown",
   "id": "e8f45e25-1816-4779-a882-cd74be76df06",
   "metadata": {},
   "source": [
    "Use the `describe` method on the column for `\"age\"`. What can you tell about the distribution of the data based on the mean and median?"
   ]
  },
  {
   "cell_type": "code",
   "execution_count": 8,
   "id": "5368729a-55f7-444c-b639-2a156863f888",
   "metadata": {},
   "outputs": [
    {
     "data": {
      "text/plain": [
       "count    86,399\n",
       "mean         41\n",
       "std          11\n",
       "min          17\n",
       "25%          32\n",
       "50%          39\n",
       "75%          48\n",
       "max          98\n",
       "Name: age, dtype: object"
      ]
     },
     "execution_count": 8,
     "metadata": {},
     "output_type": "execute_result"
    }
   ],
   "source": [
    "# Summary statistics for `age`\n",
    "df[\"age\"].describe().apply(\"{0:,.0f}\".format)"
   ]
  },
  {
   "cell_type": "markdown",
   "id": "22a75203-9f8e-4465-a331-aba0ef457064",
   "metadata": {},
   "source": [
    "The median age is around 39, but the mean age is over 41. That suggests that this feature is skewed to the right.\n",
    "The youngest client(s) is 17 years of age whie the oldest client(s) is 98years if age.\n",
    "\n",
    "Exactly half of the total 86,399 clients who sought for bank services were older than age 39 and half of the total number were less than the same age."
   ]
  },
  {
   "cell_type": "markdown",
   "id": "a2ee13b3-2ce3-4be8-985e-5b9aba1c328e",
   "metadata": {},
   "source": [
    "Create a histogram of `\"age\"`. Make sure to label x-axis `\"Age of Client(s)\"`, the y-axis `\"Count\"`, and use the title `\"Distribution of Age\"`."
   ]
  },
  {
   "cell_type": "code",
   "execution_count": 9,
   "id": "9c98b840-c49f-4cc0-8ddd-0119b04d2633",
   "metadata": {},
   "outputs": [
    {
     "data": {
      "image/png": "[encoded data removed]",
      "text/plain": [
       "<Figure size 640x480 with 1 Axes>"
      ]
     },
     "metadata": {},
     "output_type": "display_data"
    }
   ],
   "source": [
    "# Plot histogram of `age`\n",
    "df[\"age\"].hist()\n",
    "plt.xlabel(\"Age of Client(s)\")\n",
    "plt.ylabel(\"Count\"),\n",
    "plt.title(\"Distribution of Age\");"
   ]
  },
  {
   "cell_type": "markdown",
   "id": "598afe35-e656-4a7b-b99a-4a19f7337d43",
   "metadata": {},
   "source": [
    "Most of the clients whose information was captured range between 30 to 41 years of age as seen from above."
   ]
  },
  {
   "cell_type": "markdown",
   "id": "9dac8495-a718-42f3-a973-c5b60c49da51",
   "metadata": {},
   "source": [
    "#### Trim the data.\n",
    "\n",
    "Recreate the boxplot that you made above, this time only using the values for `\"age\"` that fall between the `0.1` and `0.9` quantiles for the column."
   ]
  },
  {
   "cell_type": "code",
   "execution_count": 10,
   "id": "19ac137f-3b99-466d-9944-5ed9bf487dc0",
   "metadata": {},
   "outputs": [
    {
     "data": {
      "image/png": "[encoded data removed]",
      "text/plain": [
       "<Figure size 640x480 with 1 Axes>"
      ]
     },
     "metadata": {},
     "output_type": "display_data"
    }
   ],
   "source": [
    "# Create clipped boxplot\n",
    "q1, q9 = df[\"age\"].quantile([0.1, 0.9])\n",
    "mask = df[\"age\"].between(q1, q9)\n",
    "sns.boxplot(x=\"y\",y=\"age\", data = df[mask])\n",
    "plt.xlabel(\"Bank term deposit\")\n",
    "plt.ylabel(\"Age of client(s)\")\n",
    "plt.title(\"Distribution of Age\");"
   ]
  },
  {
   "cell_type": "markdown",
   "id": "b0573541-2152-4aa8-905b-847e51ebdc06",
   "metadata": {},
   "source": [
    "Both classes seem to have a similar median age, i.e. around 38–40 years and the spread of age is quite consistent for both classes implying that age alone may not be a strong differentiator between these two groups."
   ]
  },
  {
   "cell_type": "markdown",
   "id": "6c78a26c-6db8-4592-bb89-d8a2e7d53686",
   "metadata": {},
   "source": [
    "Plot a correlation heatmap of the remaining numerical features in `df`. Since `\"y\"` will be your target, you don't need to include it in your heatmap. "
   ]
  },
  {
   "cell_type": "code",
   "execution_count": 11,
   "id": "07123a3c-2b95-4720-8070-5ed0d32cda93",
   "metadata": {},
   "outputs": [
    {
     "data": {
      "image/png": "[encoded data removed]",
      "text/plain": [
       "<Figure size 640x480 with 2 Axes>"
      ]
     },
     "metadata": {},
     "output_type": "display_data"
    }
   ],
   "source": [
    "# Create correlation matrix\n",
    "correlation = df.select_dtypes(\"number\").corr()\n",
    "# Plot heatmap of `correlation`\n",
    "sns.heatmap(correlation);"
   ]
  },
  {
   "cell_type": "markdown",
   "id": "7a5a1de3-ae8c-43ec-9159-4f334ef35805",
   "metadata": {},
   "source": [
    "There is no correlation between the variables."
   ]
  },
  {
   "cell_type": "markdown",
   "id": "33334527-91bb-45d0-8ef7-ddd32b72fd56",
   "metadata": {},
   "source": [
    "## Split"
   ]
  },
  {
   "cell_type": "markdown",
   "id": "39952f9d-4f54-4070-8308-c76fd1d87572",
   "metadata": {},
   "source": [
    "Create a feature matrix `X` and target vector `Y`. The target is `\"y\"`. "
   ]
  },
  {
   "cell_type": "code",
   "execution_count": 12,
   "id": "9937971b-e7b5-4ae2-bace-d4c92038ee72",
   "metadata": {},
   "outputs": [
    {
     "name": "stdout",
     "output_type": "stream",
     "text": [
      "X shape: (86399, 14)\n",
      "Y shape: (86399,)\n"
     ]
    }
   ],
   "source": [
    "target = \"y\"\n",
    "X = df.drop(columns=target)\n",
    "Y = df[target]\n",
    "\n",
    "print(\"X shape:\", X.shape)\n",
    "print(\"Y shape:\", Y.shape)"
   ]
  },
  {
   "cell_type": "markdown",
   "id": "17b82d1c-6f3d-45fb-af9e-f7cdbaf4471a",
   "metadata": {},
   "source": [
    "Divide the data (`X` and `Y`) into training and test sets using a randomized train-test split. The validation set should be 20% of the total data. Set a `random_state` for reproducibility. "
   ]
  },
  {
   "cell_type": "code",
   "execution_count": 13,
   "id": "599ef51d-03d1-447b-a7aa-00fb7568484a",
   "metadata": {},
   "outputs": [
    {
     "name": "stdout",
     "output_type": "stream",
     "text": [
      "X_train shape: (69119, 14)\n",
      "Y_train shape: (69119,)\n",
      "X_test shape: (17280, 14)\n",
      "Y_test shape: (17280,)\n"
     ]
    }
   ],
   "source": [
    "X_train, X_test, Y_train, Y_test = train_test_split(X, Y, \n",
    "                                                    test_size=0.2, \n",
    "                                                    random_state = 42)\n",
    "\n",
    "print(\"X_train shape:\", X_train.shape)\n",
    "print(\"Y_train shape:\", Y_train.shape)\n",
    "print(\"X_test shape:\", X_test.shape)\n",
    "print(\"Y_test shape:\", Y_test.shape)"
   ]
  },
  {
   "cell_type": "markdown",
   "id": "882fdaa6-003e-4c17-9d61-f22b8be803bf",
   "metadata": {},
   "source": [
    "## Resample"
   ]
  },
  {
   "cell_type": "markdown",
   "id": "da5f4209-33d0-415d-93d4-ef505acf3418",
   "metadata": {},
   "source": [
    "Now that we've split our data into training and validation sets, we can address the class imbalance we saw during our EDA. One strategy is to resample the training data."
   ]
  },
  {
   "cell_type": "markdown",
   "id": "119490a9-fe62-450a-a268-cc169049649f",
   "metadata": {},
   "source": [
    "Create a new feature matrix `X_train_under` and target vector `Y_train_under` by performing random under-sampling on your training data."
   ]
  },
  {
   "cell_type": "code",
   "execution_count": 14,
   "id": "529eb023-e537-4fbd-a4b7-16e2e30e5e0d",
   "metadata": {},
   "outputs": [
    {
     "name": "stdout",
     "output_type": "stream",
     "text": [
      "(15898, 14)\n"
     ]
    },
    {
     "data": {
      "text/html": [
       "<div>\n",
       "<style scoped>\n",
       "    .dataframe tbody tr th:only-of-type {\n",
       "        vertical-align: middle;\n",
       "    }\n",
       "\n",
       "    .dataframe tbody tr th {\n",
       "        vertical-align: top;\n",
       "    }\n",
       "\n",
       "    .dataframe thead th {\n",
       "        text-align: right;\n",
       "    }\n",
       "</style>\n",
       "<table border=\"1\" class=\"dataframe\">\n",
       "  <thead>\n",
       "    <tr style=\"text-align: right;\">\n",
       "      <th></th>\n",
       "      <th>age</th>\n",
       "      <th>job</th>\n",
       "      <th>marital</th>\n",
       "      <th>education</th>\n",
       "      <th>default</th>\n",
       "      <th>housing</th>\n",
       "      <th>loan</th>\n",
       "      <th>contact</th>\n",
       "      <th>month</th>\n",
       "      <th>duration</th>\n",
       "      <th>campaign</th>\n",
       "      <th>pdays</th>\n",
       "      <th>previous</th>\n",
       "      <th>poutcome</th>\n",
       "    </tr>\n",
       "  </thead>\n",
       "  <tbody>\n",
       "    <tr>\n",
       "      <th>68214</th>\n",
       "      <td>41</td>\n",
       "      <td>admin.</td>\n",
       "      <td>single</td>\n",
       "      <td>university.degree</td>\n",
       "      <td>no</td>\n",
       "      <td>no</td>\n",
       "      <td>no</td>\n",
       "      <td>cellular</td>\n",
       "      <td>aug</td>\n",
       "      <td>127</td>\n",
       "      <td>4</td>\n",
       "      <td>999</td>\n",
       "      <td>0</td>\n",
       "      <td>nonexistent</td>\n",
       "    </tr>\n",
       "    <tr>\n",
       "      <th>80159</th>\n",
       "      <td>34</td>\n",
       "      <td>admin.</td>\n",
       "      <td>married</td>\n",
       "      <td>university.degree</td>\n",
       "      <td>no</td>\n",
       "      <td>no</td>\n",
       "      <td>no</td>\n",
       "      <td>cellular</td>\n",
       "      <td>may</td>\n",
       "      <td>377</td>\n",
       "      <td>1</td>\n",
       "      <td>999</td>\n",
       "      <td>0</td>\n",
       "      <td>nonexistent</td>\n",
       "    </tr>\n",
       "  </tbody>\n",
       "</table>\n",
       "</div>"
      ],
      "text/plain": [
       "       age     job  marital          education default housing loan   contact  \\\n",
       "68214   41  admin.   single  university.degree      no      no   no  cellular   \n",
       "80159   34  admin.  married  university.degree      no      no   no  cellular   \n",
       "\n",
       "      month  duration  campaign  pdays  previous     poutcome  \n",
       "68214   aug       127         4    999         0  nonexistent  \n",
       "80159   may       377         1    999         0  nonexistent  "
      ]
     },
     "execution_count": 14,
     "metadata": {},
     "output_type": "execute_result"
    }
   ],
   "source": [
    "under_sampler = RandomUnderSampler(random_state=42)\n",
    "X_train_under, Y_train_under = under_sampler.fit_resample(X_train, Y_train)\n",
    "print(X_train_under.shape)\n",
    "X_train_under.head(2)"
   ]
  },
  {
   "cell_type": "markdown",
   "id": "0d560a34-300d-411a-8723-28fd768c0522",
   "metadata": {},
   "source": [
    "Over-sampling"
   ]
  },
  {
   "cell_type": "markdown",
   "id": "9c275736-fadf-4fe7-b505-a3cac61561dd",
   "metadata": {},
   "source": [
    "Create a new feature matrix `X_train_over` and target vector `Y_train_over` by performing random over-sampling on your training data."
   ]
  },
  {
   "cell_type": "code",
   "execution_count": 15,
   "id": "e803e080-f484-4718-aaed-3bb41c3b7759",
   "metadata": {},
   "outputs": [
    {
     "name": "stdout",
     "output_type": "stream",
     "text": [
      "(122340, 14)\n"
     ]
    },
    {
     "data": {
      "text/html": [
       "<div>\n",
       "<style scoped>\n",
       "    .dataframe tbody tr th:only-of-type {\n",
       "        vertical-align: middle;\n",
       "    }\n",
       "\n",
       "    .dataframe tbody tr th {\n",
       "        vertical-align: top;\n",
       "    }\n",
       "\n",
       "    .dataframe thead th {\n",
       "        text-align: right;\n",
       "    }\n",
       "</style>\n",
       "<table border=\"1\" class=\"dataframe\">\n",
       "  <thead>\n",
       "    <tr style=\"text-align: right;\">\n",
       "      <th></th>\n",
       "      <th>age</th>\n",
       "      <th>job</th>\n",
       "      <th>marital</th>\n",
       "      <th>education</th>\n",
       "      <th>default</th>\n",
       "      <th>housing</th>\n",
       "      <th>loan</th>\n",
       "      <th>contact</th>\n",
       "      <th>month</th>\n",
       "      <th>duration</th>\n",
       "      <th>campaign</th>\n",
       "      <th>pdays</th>\n",
       "      <th>previous</th>\n",
       "      <th>poutcome</th>\n",
       "    </tr>\n",
       "  </thead>\n",
       "  <tbody>\n",
       "    <tr>\n",
       "      <th>0</th>\n",
       "      <td>53</td>\n",
       "      <td>retired</td>\n",
       "      <td>married</td>\n",
       "      <td>secondary</td>\n",
       "      <td>no</td>\n",
       "      <td>no</td>\n",
       "      <td>no</td>\n",
       "      <td>unknown</td>\n",
       "      <td>jun</td>\n",
       "      <td>160</td>\n",
       "      <td>1</td>\n",
       "      <td>-1</td>\n",
       "      <td>0</td>\n",
       "      <td>unknown</td>\n",
       "    </tr>\n",
       "    <tr>\n",
       "      <th>1</th>\n",
       "      <td>24</td>\n",
       "      <td>services</td>\n",
       "      <td>single</td>\n",
       "      <td>secondary</td>\n",
       "      <td>no</td>\n",
       "      <td>yes</td>\n",
       "      <td>no</td>\n",
       "      <td>cellular</td>\n",
       "      <td>apr</td>\n",
       "      <td>297</td>\n",
       "      <td>1</td>\n",
       "      <td>323</td>\n",
       "      <td>2</td>\n",
       "      <td>failure</td>\n",
       "    </tr>\n",
       "  </tbody>\n",
       "</table>\n",
       "</div>"
      ],
      "text/plain": [
       "   age       job  marital  education default housing loan   contact month  \\\n",
       "0   53   retired  married  secondary      no      no   no   unknown   jun   \n",
       "1   24  services   single  secondary      no     yes   no  cellular   apr   \n",
       "\n",
       "   duration  campaign  pdays  previous poutcome  \n",
       "0       160         1     -1         0  unknown  \n",
       "1       297         1    323         2  failure  "
      ]
     },
     "execution_count": 15,
     "metadata": {},
     "output_type": "execute_result"
    }
   ],
   "source": [
    "over_sampler = RandomOverSampler(random_state=42)\n",
    "X_train_over, Y_train_over = over_sampler.fit_resample(X_train, Y_train)\n",
    "print(X_train_over.shape)\n",
    "X_train_over.head(2)"
   ]
  },
  {
   "cell_type": "markdown",
   "id": "b46037c2-0288-4bc1-9a8a-8291e1668acb",
   "metadata": {},
   "source": [
    "# Build Model"
   ]
  },
  {
   "cell_type": "markdown",
   "id": "1e95e430-bb1d-4b9c-9ee7-c5471965a751",
   "metadata": {},
   "source": [
    "## Baseline"
   ]
  },
  {
   "cell_type": "markdown",
   "id": "96c05256-e4c1-42d5-a0d8-3e8ef51a67f1",
   "metadata": {},
   "source": [
    "As always, we need to establish the baseline for our model. Since this is a classification problem, we'll use accuracy score."
   ]
  },
  {
   "cell_type": "markdown",
   "id": "1208c738-2d67-4359-b832-43717d29997e",
   "metadata": {},
   "source": [
    "Calculate the baseline accuracy score for the model."
   ]
  },
  {
   "cell_type": "code",
   "execution_count": 16,
   "id": "19f06f74-ca23-443b-af08-0c08147cb4a0",
   "metadata": {},
   "outputs": [
    {
     "name": "stdout",
     "output_type": "stream",
     "text": [
      "Baseline Accuracy: 0.885\n"
     ]
    }
   ],
   "source": [
    "acc_baseline = Y_train.value_counts(normalize =True).max()\n",
    "print(\"Baseline Accuracy:\", round(acc_baseline, 4))"
   ]
  },
  {
   "cell_type": "markdown",
   "id": "1a75bccc-60a2-4f4c-9899-40088797b383",
   "metadata": {},
   "source": [
    "Because our classes are imbalanced, the baseline accuracy is very high. We should keep this in mind because, even if our trained model gets a high validation accuracy score, that doesn't mean it's actually *good*."
   ]
  },
  {
   "cell_type": "markdown",
   "id": "a7a99fd5-67ad-40ac-ad12-070ae1766542",
   "metadata": {},
   "source": [
    "## Iterate"
   ]
  },
  {
   "cell_type": "markdown",
   "id": "af2c4f51-e62d-4bc5-bd58-7b74a7321dfa",
   "metadata": {},
   "source": [
    "Now that we have a baseline, let's build a model to see if we can beat it."
   ]
  },
  {
   "cell_type": "markdown",
   "id": "1b1969c7-5444-48f6-9e67-589cb38d4cc6",
   "metadata": {},
   "source": [
    "Create a pipeline named `model` that contains a `OrdinalEncoder` transformer and a `DecisionTreeClassifier` predictor. (Be sure to set a `random_state` for your predictor.) Then fit your model to the training data. "
   ]
  },
  {
   "cell_type": "code",
   "execution_count": 17,
   "id": "898459c8-98d3-4a09-b2d5-d1029097a4da",
   "metadata": {},
   "outputs": [
    {
     "data": {
      "text/html": [
       "<style>#sk-container-id-1 {\n",
       "  /* Definition of color scheme common for light and dark mode */\n",
       "  --sklearn-color-text: black;\n",
       "  --sklearn-color-line: gray;\n",
       "  /* Definition of color scheme for unfitted estimators */\n",
       "  --sklearn-color-unfitted-level-0: #fff5e6;\n",
       "  --sklearn-color-unfitted-level-1: #f6e4d2;\n",
       "  --sklearn-color-unfitted-level-2: #ffe0b3;\n",
       "  --sklearn-color-unfitted-level-3: chocolate;\n",
       "  /* Definition of color scheme for fitted estimators */\n",
       "  --sklearn-color-fitted-level-0: #f0f8ff;\n",
       "  --sklearn-color-fitted-level-1: #d4ebff;\n",
       "  --sklearn-color-fitted-level-2: #b3dbfd;\n",
       "  --sklearn-color-fitted-level-3: cornflowerblue;\n",
       "\n",
       "  /* Specific color for light theme */\n",
       "  --sklearn-color-text-on-default-background: var(--sg-text-color, var(--theme-code-foreground, var(--jp-content-font-color1, black)));\n",
       "  --sklearn-color-background: var(--sg-background-color, var(--theme-background, var(--jp-layout-color0, white)));\n",
       "  --sklearn-color-border-box: var(--sg-text-color, var(--theme-code-foreground, var(--jp-content-font-color1, black)));\n",
       "  --sklearn-color-icon: #696969;\n",
       "\n",
       "  @media (prefers-color-scheme: dark) {\n",
       "    /* Redefinition of color scheme for dark theme */\n",
       "    --sklearn-color-text-on-default-background: var(--sg-text-color, var(--theme-code-foreground, var(--jp-content-font-color1, white)));\n",
       "    --sklearn-color-background: var(--sg-background-color, var(--theme-background, var(--jp-layout-color0, #111)));\n",
       "    --sklearn-color-border-box: var(--sg-text-color, var(--theme-code-foreground, var(--jp-content-font-color1, white)));\n",
       "    --sklearn-color-icon: #878787;\n",
       "  }\n",
       "}\n",
       "\n",
       "#sk-container-id-1 {\n",
       "  color: var(--sklearn-color-text);\n",
       "}\n",
       "\n",
       "#sk-container-id-1 pre {\n",
       "  padding: 0;\n",
       "}\n",
       "\n",
       "#sk-container-id-1 input.sk-hidden--visually {\n",
       "  border: 0;\n",
       "  clip: rect(1px 1px 1px 1px);\n",
       "  clip: rect(1px, 1px, 1px, 1px);\n",
       "  height: 1px;\n",
       "  margin: -1px;\n",
       "  overflow: hidden;\n",
       "  padding: 0;\n",
       "  position: absolute;\n",
       "  width: 1px;\n",
       "}\n",
       "\n",
       "#sk-container-id-1 div.sk-dashed-wrapped {\n",
       "  border: 1px dashed var(--sklearn-color-line);\n",
       "  margin: 0 0.4em 0.5em 0.4em;\n",
       "  box-sizing: border-box;\n",
       "  padding-bottom: 0.4em;\n",
       "  background-color: var(--sklearn-color-background);\n",
       "}\n",
       "\n",
       "#sk-container-id-1 div.sk-container {\n",
       "  /* jupyter's `normalize.less` sets `[hidden] { display: none; }`\n",
       "     but bootstrap.min.css set `[hidden] { display: none !important; }`\n",
       "     so we also need the `!important` here to be able to override the\n",
       "     default hidden behavior on the sphinx rendered scikit-learn.org.\n",
       "     See: https://github.com/scikit-learn/scikit-learn/issues/21755 */\n",
       "  display: inline-block !important;\n",
       "  position: relative;\n",
       "}\n",
       "\n",
       "#sk-container-id-1 div.sk-text-repr-fallback {\n",
       "  display: none;\n",
       "}\n",
       "\n",
       "div.sk-parallel-item,\n",
       "div.sk-serial,\n",
       "div.sk-item {\n",
       "  /* draw centered vertical line to link estimators */\n",
       "  background-image: linear-gradient(var(--sklearn-color-text-on-default-background), var(--sklearn-color-text-on-default-background));\n",
       "  background-size: 2px 100%;\n",
       "  background-repeat: no-repeat;\n",
       "  background-position: center center;\n",
       "}\n",
       "\n",
       "/* Parallel-specific style estimator block */\n",
       "\n",
       "#sk-container-id-1 div.sk-parallel-item::after {\n",
       "  content: \"\";\n",
       "  width: 100%;\n",
       "  border-bottom: 2px solid var(--sklearn-color-text-on-default-background);\n",
       "  flex-grow: 1;\n",
       "}\n",
       "\n",
       "#sk-container-id-1 div.sk-parallel {\n",
       "  display: flex;\n",
       "  align-items: stretch;\n",
       "  justify-content: center;\n",
       "  background-color: var(--sklearn-color-background);\n",
       "  position: relative;\n",
       "}\n",
       "\n",
       "#sk-container-id-1 div.sk-parallel-item {\n",
       "  display: flex;\n",
       "  flex-direction: column;\n",
       "}\n",
       "\n",
       "#sk-container-id-1 div.sk-parallel-item:first-child::after {\n",
       "  align-self: flex-end;\n",
       "  width: 50%;\n",
       "}\n",
       "\n",
       "#sk-container-id-1 div.sk-parallel-item:last-child::after {\n",
       "  align-self: flex-start;\n",
       "  width: 50%;\n",
       "}\n",
       "\n",
       "#sk-container-id-1 div.sk-parallel-item:only-child::after {\n",
       "  width: 0;\n",
       "}\n",
       "\n",
       "/* Serial-specific style estimator block */\n",
       "\n",
       "#sk-container-id-1 div.sk-serial {\n",
       "  display: flex;\n",
       "  flex-direction: column;\n",
       "  align-items: center;\n",
       "  background-color: var(--sklearn-color-background);\n",
       "  padding-right: 1em;\n",
       "  padding-left: 1em;\n",
       "}\n",
       "\n",
       "\n",
       "/* Toggleable style: style used for estimator/Pipeline/ColumnTransformer box that is\n",
       "clickable and can be expanded/collapsed.\n",
       "- Pipeline and ColumnTransformer use this feature and define the default style\n",
       "- Estimators will overwrite some part of the style using the `sk-estimator` class\n",
       "*/\n",
       "\n",
       "/* Pipeline and ColumnTransformer style (default) */\n",
       "\n",
       "#sk-container-id-1 div.sk-toggleable {\n",
       "  /* Default theme specific background. It is overwritten whether we have a\n",
       "  specific estimator or a Pipeline/ColumnTransformer */\n",
       "  background-color: var(--sklearn-color-background);\n",
       "}\n",
       "\n",
       "/* Toggleable label */\n",
       "#sk-container-id-1 label.sk-toggleable__label {\n",
       "  cursor: pointer;\n",
       "  display: block;\n",
       "  width: 100%;\n",
       "  margin-bottom: 0;\n",
       "  padding: 0.5em;\n",
       "  box-sizing: border-box;\n",
       "  text-align: center;\n",
       "}\n",
       "\n",
       "#sk-container-id-1 label.sk-toggleable__label-arrow:before {\n",
       "  /* Arrow on the left of the label */\n",
       "  content: \"▸\";\n",
       "  float: left;\n",
       "  margin-right: 0.25em;\n",
       "  color: var(--sklearn-color-icon);\n",
       "}\n",
       "\n",
       "#sk-container-id-1 label.sk-toggleable__label-arrow:hover:before {\n",
       "  color: var(--sklearn-color-text);\n",
       "}\n",
       "\n",
       "/* Toggleable content - dropdown */\n",
       "\n",
       "#sk-container-id-1 div.sk-toggleable__content {\n",
       "  max-height: 0;\n",
       "  max-width: 0;\n",
       "  overflow: hidden;\n",
       "  text-align: left;\n",
       "  /* unfitted */\n",
       "  background-color: var(--sklearn-color-unfitted-level-0);\n",
       "}\n",
       "\n",
       "#sk-container-id-1 div.sk-toggleable__content.fitted {\n",
       "  /* fitted */\n",
       "  background-color: var(--sklearn-color-fitted-level-0);\n",
       "}\n",
       "\n",
       "#sk-container-id-1 div.sk-toggleable__content pre {\n",
       "  margin: 0.2em;\n",
       "  border-radius: 0.25em;\n",
       "  color: var(--sklearn-color-text);\n",
       "  /* unfitted */\n",
       "  background-color: var(--sklearn-color-unfitted-level-0);\n",
       "}\n",
       "\n",
       "#sk-container-id-1 div.sk-toggleable__content.fitted pre {\n",
       "  /* unfitted */\n",
       "  background-color: var(--sklearn-color-fitted-level-0);\n",
       "}\n",
       "\n",
       "#sk-container-id-1 input.sk-toggleable__control:checked~div.sk-toggleable__content {\n",
       "  /* Expand drop-down */\n",
       "  max-height: 200px;\n",
       "  max-width: 100%;\n",
       "  overflow: auto;\n",
       "}\n",
       "\n",
       "#sk-container-id-1 input.sk-toggleable__control:checked~label.sk-toggleable__label-arrow:before {\n",
       "  content: \"▾\";\n",
       "}\n",
       "\n",
       "/* Pipeline/ColumnTransformer-specific style */\n",
       "\n",
       "#sk-container-id-1 div.sk-label input.sk-toggleable__control:checked~label.sk-toggleable__label {\n",
       "  color: var(--sklearn-color-text);\n",
       "  background-color: var(--sklearn-color-unfitted-level-2);\n",
       "}\n",
       "\n",
       "#sk-container-id-1 div.sk-label.fitted input.sk-toggleable__control:checked~label.sk-toggleable__label {\n",
       "  background-color: var(--sklearn-color-fitted-level-2);\n",
       "}\n",
       "\n",
       "/* Estimator-specific style */\n",
       "\n",
       "/* Colorize estimator box */\n",
       "#sk-container-id-1 div.sk-estimator input.sk-toggleable__control:checked~label.sk-toggleable__label {\n",
       "  /* unfitted */\n",
       "  background-color: var(--sklearn-color-unfitted-level-2);\n",
       "}\n",
       "\n",
       "#sk-container-id-1 div.sk-estimator.fitted input.sk-toggleable__control:checked~label.sk-toggleable__label {\n",
       "  /* fitted */\n",
       "  background-color: var(--sklearn-color-fitted-level-2);\n",
       "}\n",
       "\n",
       "#sk-container-id-1 div.sk-label label.sk-toggleable__label,\n",
       "#sk-container-id-1 div.sk-label label {\n",
       "  /* The background is the default theme color */\n",
       "  color: var(--sklearn-color-text-on-default-background);\n",
       "}\n",
       "\n",
       "/* On hover, darken the color of the background */\n",
       "#sk-container-id-1 div.sk-label:hover label.sk-toggleable__label {\n",
       "  color: var(--sklearn-color-text);\n",
       "  background-color: var(--sklearn-color-unfitted-level-2);\n",
       "}\n",
       "\n",
       "/* Label box, darken color on hover, fitted */\n",
       "#sk-container-id-1 div.sk-label.fitted:hover label.sk-toggleable__label.fitted {\n",
       "  color: var(--sklearn-color-text);\n",
       "  background-color: var(--sklearn-color-fitted-level-2);\n",
       "}\n",
       "\n",
       "/* Estimator label */\n",
       "\n",
       "#sk-container-id-1 div.sk-label label {\n",
       "  font-family: monospace;\n",
       "  font-weight: bold;\n",
       "  display: inline-block;\n",
       "  line-height: 1.2em;\n",
       "}\n",
       "\n",
       "#sk-container-id-1 div.sk-label-container {\n",
       "  text-align: center;\n",
       "}\n",
       "\n",
       "/* Estimator-specific */\n",
       "#sk-container-id-1 div.sk-estimator {\n",
       "  font-family: monospace;\n",
       "  border: 1px dotted var(--sklearn-color-border-box);\n",
       "  border-radius: 0.25em;\n",
       "  box-sizing: border-box;\n",
       "  margin-bottom: 0.5em;\n",
       "  /* unfitted */\n",
       "  background-color: var(--sklearn-color-unfitted-level-0);\n",
       "}\n",
       "\n",
       "#sk-container-id-1 div.sk-estimator.fitted {\n",
       "  /* fitted */\n",
       "  background-color: var(--sklearn-color-fitted-level-0);\n",
       "}\n",
       "\n",
       "/* on hover */\n",
       "#sk-container-id-1 div.sk-estimator:hover {\n",
       "  /* unfitted */\n",
       "  background-color: var(--sklearn-color-unfitted-level-2);\n",
       "}\n",
       "\n",
       "#sk-container-id-1 div.sk-estimator.fitted:hover {\n",
       "  /* fitted */\n",
       "  background-color: var(--sklearn-color-fitted-level-2);\n",
       "}\n",
       "\n",
       "/* Specification for estimator info (e.g. \"i\" and \"?\") */\n",
       "\n",
       "/* Common style for \"i\" and \"?\" */\n",
       "\n",
       ".sk-estimator-doc-link,\n",
       "a:link.sk-estimator-doc-link,\n",
       "a:visited.sk-estimator-doc-link {\n",
       "  float: right;\n",
       "  font-size: smaller;\n",
       "  line-height: 1em;\n",
       "  font-family: monospace;\n",
       "  background-color: var(--sklearn-color-background);\n",
       "  border-radius: 1em;\n",
       "  height: 1em;\n",
       "  width: 1em;\n",
       "  text-decoration: none !important;\n",
       "  margin-left: 1ex;\n",
       "  /* unfitted */\n",
       "  border: var(--sklearn-color-unfitted-level-1) 1pt solid;\n",
       "  color: var(--sklearn-color-unfitted-level-1);\n",
       "}\n",
       "\n",
       ".sk-estimator-doc-link.fitted,\n",
       "a:link.sk-estimator-doc-link.fitted,\n",
       "a:visited.sk-estimator-doc-link.fitted {\n",
       "  /* fitted */\n",
       "  border: var(--sklearn-color-fitted-level-1) 1pt solid;\n",
       "  color: var(--sklearn-color-fitted-level-1);\n",
       "}\n",
       "\n",
       "/* On hover */\n",
       "div.sk-estimator:hover .sk-estimator-doc-link:hover,\n",
       ".sk-estimator-doc-link:hover,\n",
       "div.sk-label-container:hover .sk-estimator-doc-link:hover,\n",
       ".sk-estimator-doc-link:hover {\n",
       "  /* unfitted */\n",
       "  background-color: var(--sklearn-color-unfitted-level-3);\n",
       "  color: var(--sklearn-color-background);\n",
       "  text-decoration: none;\n",
       "}\n",
       "\n",
       "div.sk-estimator.fitted:hover .sk-estimator-doc-link.fitted:hover,\n",
       ".sk-estimator-doc-link.fitted:hover,\n",
       "div.sk-label-container:hover .sk-estimator-doc-link.fitted:hover,\n",
       ".sk-estimator-doc-link.fitted:hover {\n",
       "  /* fitted */\n",
       "  background-color: var(--sklearn-color-fitted-level-3);\n",
       "  color: var(--sklearn-color-background);\n",
       "  text-decoration: none;\n",
       "}\n",
       "\n",
       "/* Span, style for the box shown on hovering the info icon */\n",
       ".sk-estimator-doc-link span {\n",
       "  display: none;\n",
       "  z-index: 9999;\n",
       "  position: relative;\n",
       "  font-weight: normal;\n",
       "  right: .2ex;\n",
       "  padding: .5ex;\n",
       "  margin: .5ex;\n",
       "  width: min-content;\n",
       "  min-width: 20ex;\n",
       "  max-width: 50ex;\n",
       "  color: var(--sklearn-color-text);\n",
       "  box-shadow: 2pt 2pt 4pt #999;\n",
       "  /* unfitted */\n",
       "  background: var(--sklearn-color-unfitted-level-0);\n",
       "  border: .5pt solid var(--sklearn-color-unfitted-level-3);\n",
       "}\n",
       "\n",
       ".sk-estimator-doc-link.fitted span {\n",
       "  /* fitted */\n",
       "  background: var(--sklearn-color-fitted-level-0);\n",
       "  border: var(--sklearn-color-fitted-level-3);\n",
       "}\n",
       "\n",
       ".sk-estimator-doc-link:hover span {\n",
       "  display: block;\n",
       "}\n",
       "\n",
       "/* \"?\"-specific style due to the `<a>` HTML tag */\n",
       "\n",
       "#sk-container-id-1 a.estimator_doc_link {\n",
       "  float: right;\n",
       "  font-size: 1rem;\n",
       "  line-height: 1em;\n",
       "  font-family: monospace;\n",
       "  background-color: var(--sklearn-color-background);\n",
       "  border-radius: 1rem;\n",
       "  height: 1rem;\n",
       "  width: 1rem;\n",
       "  text-decoration: none;\n",
       "  /* unfitted */\n",
       "  color: var(--sklearn-color-unfitted-level-1);\n",
       "  border: var(--sklearn-color-unfitted-level-1) 1pt solid;\n",
       "}\n",
       "\n",
       "#sk-container-id-1 a.estimator_doc_link.fitted {\n",
       "  /* fitted */\n",
       "  border: var(--sklearn-color-fitted-level-1) 1pt solid;\n",
       "  color: var(--sklearn-color-fitted-level-1);\n",
       "}\n",
       "\n",
       "/* On hover */\n",
       "#sk-container-id-1 a.estimator_doc_link:hover {\n",
       "  /* unfitted */\n",
       "  background-color: var(--sklearn-color-unfitted-level-3);\n",
       "  color: var(--sklearn-color-background);\n",
       "  text-decoration: none;\n",
       "}\n",
       "\n",
       "#sk-container-id-1 a.estimator_doc_link.fitted:hover {\n",
       "  /* fitted */\n",
       "  background-color: var(--sklearn-color-fitted-level-3);\n",
       "}\n",
       "</style><div id=\"sk-container-id-1\" class=\"sk-top-container\"><div class=\"sk-text-repr-fallback\"><pre>Pipeline(steps=[(&#x27;ordinalencoder&#x27;,\n",
       "                 OrdinalEncoder(cols=[&#x27;job&#x27;, &#x27;marital&#x27;, &#x27;education&#x27;, &#x27;default&#x27;,\n",
       "                                      &#x27;housing&#x27;, &#x27;loan&#x27;, &#x27;contact&#x27;, &#x27;month&#x27;,\n",
       "                                      &#x27;poutcome&#x27;],\n",
       "                                mapping=[{&#x27;col&#x27;: &#x27;job&#x27;, &#x27;data_type&#x27;: dtype(&#x27;O&#x27;),\n",
       "                                          &#x27;mapping&#x27;: retired           1\n",
       "services          2\n",
       "unemployed        3\n",
       "housemaid         4\n",
       "self-employed     5\n",
       "blue-collar       6\n",
       "admin.            7\n",
       "entrepreneur      8\n",
       "technician        9\n",
       "management       10\n",
       "unknown          11\n",
       "student          12\n",
       "NaN              -2\n",
       "dtype: int64},\n",
       "                                         {&#x27;col&#x27;: &#x27;mari...\n",
       "                                          &#x27;mapping&#x27;: unknown      1\n",
       "cellular     2\n",
       "telephone    3\n",
       "NaN         -2\n",
       "dtype: int64},\n",
       "                                         {&#x27;col&#x27;: &#x27;month&#x27;,\n",
       "                                          &#x27;data_type&#x27;: dtype(&#x27;O&#x27;),\n",
       "                                          &#x27;mapping&#x27;: jun     1\n",
       "apr     2\n",
       "aug     3\n",
       "sep     4\n",
       "may     5\n",
       "jul     6\n",
       "feb     7\n",
       "nov     8\n",
       "jan     9\n",
       "mar    10\n",
       "oct    11\n",
       "dec    12\n",
       "NaN    -2\n",
       "dtype: int64},\n",
       "                                         {&#x27;col&#x27;: &#x27;poutcome&#x27;,\n",
       "                                          &#x27;data_type&#x27;: dtype(&#x27;O&#x27;),\n",
       "                                          &#x27;mapping&#x27;: unknown        1\n",
       "failure        2\n",
       "nonexistent    3\n",
       "success        4\n",
       "other          5\n",
       "NaN           -2\n",
       "dtype: int64}])),\n",
       "                (&#x27;decisiontreeclassifier&#x27;,\n",
       "                 DecisionTreeClassifier(max_depth=6, random_state=42))])</pre><b>In a Jupyter environment, please rerun this cell to show the HTML representation or trust the notebook. <br />On GitHub, the HTML representation is unable to render, please try loading this page with nbviewer.org.</b></div><div class=\"sk-container\" hidden><div class=\"sk-item sk-dashed-wrapped\"><div class=\"sk-label-container\"><div class=\"sk-label fitted sk-toggleable\"><input class=\"sk-toggleable__control sk-hidden--visually\" id=\"sk-estimator-id-1\" type=\"checkbox\" ><label for=\"sk-estimator-id-1\" class=\"sk-toggleable__label fitted sk-toggleable__label-arrow fitted\">&nbsp;&nbsp;Pipeline<a class=\"sk-estimator-doc-link fitted\" rel=\"noreferrer\" target=\"_blank\" href=\"https://scikit-learn.org/1.5/modules/generated/sklearn.pipeline.Pipeline.html\">?<span>Documentation for Pipeline</span></a><span class=\"sk-estimator-doc-link fitted\">i<span>Fitted</span></span></label><div class=\"sk-toggleable__content fitted\"><pre>Pipeline(steps=[(&#x27;ordinalencoder&#x27;,\n",
       "                 OrdinalEncoder(cols=[&#x27;job&#x27;, &#x27;marital&#x27;, &#x27;education&#x27;, &#x27;default&#x27;,\n",
       "                                      &#x27;housing&#x27;, &#x27;loan&#x27;, &#x27;contact&#x27;, &#x27;month&#x27;,\n",
       "                                      &#x27;poutcome&#x27;],\n",
       "                                mapping=[{&#x27;col&#x27;: &#x27;job&#x27;, &#x27;data_type&#x27;: dtype(&#x27;O&#x27;),\n",
       "                                          &#x27;mapping&#x27;: retired           1\n",
       "services          2\n",
       "unemployed        3\n",
       "housemaid         4\n",
       "self-employed     5\n",
       "blue-collar       6\n",
       "admin.            7\n",
       "entrepreneur      8\n",
       "technician        9\n",
       "management       10\n",
       "unknown          11\n",
       "student          12\n",
       "NaN              -2\n",
       "dtype: int64},\n",
       "                                         {&#x27;col&#x27;: &#x27;mari...\n",
       "                                          &#x27;mapping&#x27;: unknown      1\n",
       "cellular     2\n",
       "telephone    3\n",
       "NaN         -2\n",
       "dtype: int64},\n",
       "                                         {&#x27;col&#x27;: &#x27;month&#x27;,\n",
       "                                          &#x27;data_type&#x27;: dtype(&#x27;O&#x27;),\n",
       "                                          &#x27;mapping&#x27;: jun     1\n",
       "apr     2\n",
       "aug     3\n",
       "sep     4\n",
       "may     5\n",
       "jul     6\n",
       "feb     7\n",
       "nov     8\n",
       "jan     9\n",
       "mar    10\n",
       "oct    11\n",
       "dec    12\n",
       "NaN    -2\n",
       "dtype: int64},\n",
       "                                         {&#x27;col&#x27;: &#x27;poutcome&#x27;,\n",
       "                                          &#x27;data_type&#x27;: dtype(&#x27;O&#x27;),\n",
       "                                          &#x27;mapping&#x27;: unknown        1\n",
       "failure        2\n",
       "nonexistent    3\n",
       "success        4\n",
       "other          5\n",
       "NaN           -2\n",
       "dtype: int64}])),\n",
       "                (&#x27;decisiontreeclassifier&#x27;,\n",
       "                 DecisionTreeClassifier(max_depth=6, random_state=42))])</pre></div> </div></div><div class=\"sk-serial\"><div class=\"sk-item\"><div class=\"sk-estimator fitted sk-toggleable\"><input class=\"sk-toggleable__control sk-hidden--visually\" id=\"sk-estimator-id-2\" type=\"checkbox\" ><label for=\"sk-estimator-id-2\" class=\"sk-toggleable__label fitted sk-toggleable__label-arrow fitted\">OrdinalEncoder</label><div class=\"sk-toggleable__content fitted\"><pre>OrdinalEncoder(cols=[&#x27;job&#x27;, &#x27;marital&#x27;, &#x27;education&#x27;, &#x27;default&#x27;, &#x27;housing&#x27;,\n",
       "                     &#x27;loan&#x27;, &#x27;contact&#x27;, &#x27;month&#x27;, &#x27;poutcome&#x27;],\n",
       "               mapping=[{&#x27;col&#x27;: &#x27;job&#x27;, &#x27;data_type&#x27;: dtype(&#x27;O&#x27;),\n",
       "                         &#x27;mapping&#x27;: retired           1\n",
       "services          2\n",
       "unemployed        3\n",
       "housemaid         4\n",
       "self-employed     5\n",
       "blue-collar       6\n",
       "admin.            7\n",
       "entrepreneur      8\n",
       "technician        9\n",
       "management       10\n",
       "unknown          11\n",
       "student          12\n",
       "NaN              -2\n",
       "dtype: int64},\n",
       "                        {&#x27;col&#x27;: &#x27;marital&#x27;, &#x27;data_type&#x27;: dtype(&#x27;O&#x27;),\n",
       "                         &#x27;mappi...\n",
       "unknown    3\n",
       "NaN       -2\n",
       "dtype: int64},\n",
       "                        {&#x27;col&#x27;: &#x27;contact&#x27;, &#x27;data_type&#x27;: dtype(&#x27;O&#x27;),\n",
       "                         &#x27;mapping&#x27;: unknown      1\n",
       "cellular     2\n",
       "telephone    3\n",
       "NaN         -2\n",
       "dtype: int64},\n",
       "                        {&#x27;col&#x27;: &#x27;month&#x27;, &#x27;data_type&#x27;: dtype(&#x27;O&#x27;),\n",
       "                         &#x27;mapping&#x27;: jun     1\n",
       "apr     2\n",
       "aug     3\n",
       "sep     4\n",
       "may     5\n",
       "jul     6\n",
       "feb     7\n",
       "nov     8\n",
       "jan     9\n",
       "mar    10\n",
       "oct    11\n",
       "dec    12\n",
       "NaN    -2\n",
       "dtype: int64},\n",
       "                        {&#x27;col&#x27;: &#x27;poutcome&#x27;, &#x27;data_type&#x27;: dtype(&#x27;O&#x27;),\n",
       "                         &#x27;mapping&#x27;: unknown        1\n",
       "failure        2\n",
       "nonexistent    3\n",
       "success        4\n",
       "other          5\n",
       "NaN           -2\n",
       "dtype: int64}])</pre></div> </div></div><div class=\"sk-item\"><div class=\"sk-estimator fitted sk-toggleable\"><input class=\"sk-toggleable__control sk-hidden--visually\" id=\"sk-estimator-id-3\" type=\"checkbox\" ><label for=\"sk-estimator-id-3\" class=\"sk-toggleable__label fitted sk-toggleable__label-arrow fitted\">&nbsp;DecisionTreeClassifier<a class=\"sk-estimator-doc-link fitted\" rel=\"noreferrer\" target=\"_blank\" href=\"https://scikit-learn.org/1.5/modules/generated/sklearn.tree.DecisionTreeClassifier.html\">?<span>Documentation for DecisionTreeClassifier</span></a></label><div class=\"sk-toggleable__content fitted\"><pre>DecisionTreeClassifier(max_depth=6, random_state=42)</pre></div> </div></div></div></div></div></div>"
      ],
      "text/plain": [
       "Pipeline(steps=[('ordinalencoder',\n",
       "                 OrdinalEncoder(cols=['job', 'marital', 'education', 'default',\n",
       "                                      'housing', 'loan', 'contact', 'month',\n",
       "                                      'poutcome'],\n",
       "                                mapping=[{'col': 'job', 'data_type': dtype('O'),\n",
       "                                          'mapping': retired           1\n",
       "services          2\n",
       "unemployed        3\n",
       "housemaid         4\n",
       "self-employed     5\n",
       "blue-collar       6\n",
       "admin.            7\n",
       "entrepreneur      8\n",
       "technician        9\n",
       "management       10\n",
       "unknown          11\n",
       "student          12\n",
       "NaN              -2\n",
       "dtype: int64},\n",
       "                                         {'col': 'mari...\n",
       "                                          'mapping': unknown      1\n",
       "cellular     2\n",
       "telephone    3\n",
       "NaN         -2\n",
       "dtype: int64},\n",
       "                                         {'col': 'month',\n",
       "                                          'data_type': dtype('O'),\n",
       "                                          'mapping': jun     1\n",
       "apr     2\n",
       "aug     3\n",
       "sep     4\n",
       "may     5\n",
       "jul     6\n",
       "feb     7\n",
       "nov     8\n",
       "jan     9\n",
       "mar    10\n",
       "oct    11\n",
       "dec    12\n",
       "NaN    -2\n",
       "dtype: int64},\n",
       "                                         {'col': 'poutcome',\n",
       "                                          'data_type': dtype('O'),\n",
       "                                          'mapping': unknown        1\n",
       "failure        2\n",
       "nonexistent    3\n",
       "success        4\n",
       "other          5\n",
       "NaN           -2\n",
       "dtype: int64}])),\n",
       "                ('decisiontreeclassifier',\n",
       "                 DecisionTreeClassifier(max_depth=6, random_state=42))])"
      ]
     },
     "execution_count": 17,
     "metadata": {},
     "output_type": "execute_result"
    }
   ],
   "source": [
    "# Build Model\n",
    "model = make_pipeline(\n",
    "        OrdinalEncoder(),\n",
    "        DecisionTreeClassifier(max_depth=6, random_state=42)) # Random_state looks through the data features in \n",
    "                                                                #a random order hence making the process more reproducible.\n",
    "\n",
    "# Fit model to training data\n",
    "model.fit(X_train, Y_train)"
   ]
  },
  {
   "cell_type": "markdown",
   "id": "cd47cf3f-a195-4fe0-9101-7ddd81451a19",
   "metadata": {},
   "source": [
    "## Evaluate"
   ]
  },
  {
   "cell_type": "markdown",
   "id": "b494bf76-665d-4234-8d8e-732820b51e36",
   "metadata": {},
   "source": [
    "Calculate training and test accuracy for the models."
   ]
  },
  {
   "cell_type": "code",
   "execution_count": 18,
   "id": "14be9422-5cdc-43a3-86ef-703357647fd3",
   "metadata": {},
   "outputs": [
    {
     "name": "stdout",
     "output_type": "stream",
     "text": [
      "Training Accuracy: 0.91\n",
      "Validation Accuracy: 0.9\n"
     ]
    }
   ],
   "source": [
    "acc_train = accuracy_score(Y_train,model.predict(X_train))\n",
    "acc_val = model.score(X_test, Y_test)\n",
    "\n",
    "print(\"Training Accuracy:\", round(acc_train, 2))\n",
    "print(\"Validation Accuracy:\", round(acc_val, 2))"
   ]
  },
  {
   "cell_type": "markdown",
   "id": "d8146eaa-102f-4b18-a02e-0cac0d7b19d9",
   "metadata": {},
   "source": [
    "Plot a confusion matrix that shows how your best model performs on your validation set."
   ]
  },
  {
   "cell_type": "code",
   "execution_count": 19,
   "id": "a1d17edc-91d0-4a30-9936-ce3230c6e7fd",
   "metadata": {},
   "outputs": [
    {
     "data": {
      "image/png": "[encoded data removed]",
      "text/plain": [
       "<Figure size 640x480 with 2 Axes>"
      ]
     },
     "metadata": {},
     "output_type": "display_data"
    }
   ],
   "source": [
    "# Plot confusion matrix\n",
    "ConfusionMatrixDisplay.from_estimator(model, X_test, Y_test);"
   ]
  },
  {
   "cell_type": "markdown",
   "id": "0d16950b-09df-42e9-9143-baac1952f3b7",
   "metadata": {},
   "source": [
    "The model predicted 14,884 true negatives [that a client will not open a bank term deposit account](right prediction) and predicted 735 clients obtaining a bank deposit term with the bank. In the confusion matrix above, we observe that 14,884 + 416 = 15,300 **(97%)** clients did not subscribe to a term deposit and were correctly classified and 1,245 + 735 = 1,980 **(37%)** clients that subscribed to a term deposit were correctly classified."
   ]
  },
  {
   "cell_type": "markdown",
   "id": "e9da0b94-9942-44b8-ab60-e6a8bc7380c7",
   "metadata": {},
   "source": [
    "Determine the depth of the decision tree in `model`."
   ]
  },
  {
   "cell_type": "code",
   "execution_count": 20,
   "id": "09e4a44a-7225-4a97-99a9-ef0ed2ff0936",
   "metadata": {},
   "outputs": [
    {
     "name": "stdout",
     "output_type": "stream",
     "text": [
      "Tree Depth: 6\n"
     ]
    }
   ],
   "source": [
    "tree_depth = model.named_steps[\"decisiontreeclassifier\"].get_depth()\n",
    "print(\"Tree Depth:\", tree_depth)"
   ]
  },
  {
   "cell_type": "markdown",
   "id": "4d864c18-a9ea-4e4d-9700-b4b6e481bdc0",
   "metadata": {},
   "source": [
    "The depth of the model is moderate = 6. This captures more complexity while regulating overfitting which serves a good balance for the data."
   ]
  },
  {
   "cell_type": "markdown",
   "id": "2ec1c36b-36d1-4b38-9698-3f7fb3ae2090",
   "metadata": {},
   "source": [
    "# Communicate"
   ]
  },
  {
   "cell_type": "markdown",
   "id": "11d59d4a-b0ea-4b12-b7cb-2a4df925302d",
   "metadata": {},
   "source": [
    "Create a horizontal bar chart with the 5 most important features for `model`. Be sure to label your x-axis `\"Gini Importance\"`."
   ]
  },
  {
   "cell_type": "code",
   "execution_count": 21,
   "id": "1ccfcadc-c1ed-4cca-b9b7-9d48301be005",
   "metadata": {},
   "outputs": [
    {
     "data": {
      "image/png": "[encoded data removed]",
      "text/plain": [
       "<Figure size 640x480 with 1 Axes>"
      ]
     },
     "metadata": {},
     "output_type": "display_data"
    }
   ],
   "source": [
    "# Get importances\n",
    "importances = model.named_steps[\"decisiontreeclassifier\"].feature_importances_\n",
    "\n",
    "# Put importances into a Series\n",
    "feat_imp = pd.Series(importances, index = X_train_over.columns).sort_values()\n",
    "\n",
    "# Plot series\n",
    "feat_imp.tail(5).plot(kind= \"barh\")\n",
    "plt.xlabel(\"Gini Importance\")\n",
    "plt.ylabel(\"Feature\")\n",
    "plt.title(\"Model Feature Importance\");"
   ]
  },
  {
   "cell_type": "markdown",
   "id": "a32add65-ff1f-4995-a760-6b4512fa38b0",
   "metadata": {},
   "source": [
    "It is observed that  `duration` has the highest impact on the model, followed by `outcome of the previous marketing campaign`, `last contact month of year`, `age of the client` and lastly `communication type`"
   ]
  },
  {
   "cell_type": "markdown",
   "id": "6f2cdaf9-9418-4c3f-98db-163ce3be634f",
   "metadata": {},
   "source": [
    "### Saving the model"
   ]
  },
  {
   "cell_type": "code",
   "execution_count": 22,
   "id": "7e87a866-3d8a-4c20-b8eb-7beca9560bb9",
   "metadata": {},
   "outputs": [],
   "source": [
    "import pickle\n",
    "\n",
    "# Save your model as `\"model-2.pkl\"`\n",
    "with open(\"model-1.pkl\", \"wb\") as f: \n",
    "        pickle.dump(model, f) "
   ]
  },
  {
   "cell_type": "markdown",
   "id": "76a6498c-0e62-4e94-afe0-3d21f32cb7ab",
   "metadata": {},
   "source": [
    "<center>\n",
    "<table>\n",
    "  <tr>\n",
    "    <th>Date (YYYY-MM-DD)</th>\n",
    "    <th>Author</th>\n",
    "  </tr>\n",
    "  <tr>\n",
    "    <td>2025-02-20</td>\n",
    "    <td>Andrew Kalumba Harris</td>\n",
    "    <td>andrewkalumbaharris@gmail.com</td>\n",
    "  </tr>\n",
    "</table>\n",
    "</center>\n"
   ]
  }
 ],
 "metadata": {
  "kernelspec": {
   "display_name": "Python 3 (ipykernel)",
   "language": "python",
   "name": "python3"
  },
  "language_info": {
   "codemirror_mode": {
    "name": "ipython",
    "version": 3
   },
   "file_extension": ".py",
   "mimetype": "text/x-python",
   "name": "python",
   "nbconvert_exporter": "python",
   "pygments_lexer": "ipython3",
   "version": "3.10.14"
  }
 },
 "nbformat": 4,
 "nbformat_minor": 5
}
